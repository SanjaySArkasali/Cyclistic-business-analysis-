{
 "cells": [
  {
   "cell_type": "markdown",
   "id": "e0c7d547",
   "metadata": {},
   "source": [
    "### Cyclistic analysis project\n",
    "A bike rental company (cyclistic)"
   ]
  },
  {
   "cell_type": "code",
   "execution_count": 1,
   "id": "c6a4ca5e",
   "metadata": {},
   "outputs": [],
   "source": [
    "import pandas as pd"
   ]
  },
  {
   "cell_type": "markdown",
   "id": "8c77d555",
   "metadata": {},
   "source": [
    "### Importing 12 months merged data of cyclistics (2021)"
   ]
  },
  {
   "cell_type": "code",
   "execution_count": 2,
   "id": "2fe174a7",
   "metadata": {},
   "outputs": [],
   "source": [
    "dataset = pd.read_csv('merged_cyclistic_data.csv')"
   ]
  },
  {
   "cell_type": "code",
   "execution_count": 3,
   "id": "af30ecce",
   "metadata": {},
   "outputs": [
    {
     "data": {
      "text/html": [
       "<div>\n",
       "<style scoped>\n",
       "    .dataframe tbody tr th:only-of-type {\n",
       "        vertical-align: middle;\n",
       "    }\n",
       "\n",
       "    .dataframe tbody tr th {\n",
       "        vertical-align: top;\n",
       "    }\n",
       "\n",
       "    .dataframe thead th {\n",
       "        text-align: right;\n",
       "    }\n",
       "</style>\n",
       "<table border=\"1\" class=\"dataframe\">\n",
       "  <thead>\n",
       "    <tr style=\"text-align: right;\">\n",
       "      <th></th>\n",
       "      <th>Unnamed: 0</th>\n",
       "      <th>ride_id</th>\n",
       "      <th>rideable_type</th>\n",
       "      <th>started_at</th>\n",
       "      <th>ended_at</th>\n",
       "      <th>start_station_name</th>\n",
       "      <th>start_station_id</th>\n",
       "      <th>end_station_name</th>\n",
       "      <th>end_station_id</th>\n",
       "      <th>start_lat</th>\n",
       "      <th>start_lng</th>\n",
       "      <th>end_lat</th>\n",
       "      <th>end_lng</th>\n",
       "      <th>member_casual</th>\n",
       "    </tr>\n",
       "  </thead>\n",
       "  <tbody>\n",
       "    <tr>\n",
       "      <th>6226284</th>\n",
       "      <td>247535</td>\n",
       "      <td>847431F3D5353AB7</td>\n",
       "      <td>electric_bike</td>\n",
       "      <td>2021-12-12 13:36:55</td>\n",
       "      <td>2021-12-12 13:56:08</td>\n",
       "      <td>Canal St &amp; Madison St</td>\n",
       "      <td>13341</td>\n",
       "      <td>NaN</td>\n",
       "      <td>NaN</td>\n",
       "      <td>41.882289</td>\n",
       "      <td>-87.639752</td>\n",
       "      <td>41.890000</td>\n",
       "      <td>-87.610000</td>\n",
       "      <td>casual</td>\n",
       "    </tr>\n",
       "    <tr>\n",
       "      <th>6226285</th>\n",
       "      <td>247536</td>\n",
       "      <td>CF407BBC3B9FAD63</td>\n",
       "      <td>electric_bike</td>\n",
       "      <td>2021-12-06 19:37:50</td>\n",
       "      <td>2021-12-06 19:44:51</td>\n",
       "      <td>Canal St &amp; Madison St</td>\n",
       "      <td>13341</td>\n",
       "      <td>Kingsbury St &amp; Kinzie St</td>\n",
       "      <td>KA1503000043</td>\n",
       "      <td>41.882123</td>\n",
       "      <td>-87.640053</td>\n",
       "      <td>41.889106</td>\n",
       "      <td>-87.638862</td>\n",
       "      <td>member</td>\n",
       "    </tr>\n",
       "    <tr>\n",
       "      <th>6226286</th>\n",
       "      <td>247537</td>\n",
       "      <td>60BB69EBF5440E92</td>\n",
       "      <td>electric_bike</td>\n",
       "      <td>2021-12-02 08:57:04</td>\n",
       "      <td>2021-12-02 09:05:21</td>\n",
       "      <td>Canal St &amp; Madison St</td>\n",
       "      <td>13341</td>\n",
       "      <td>Dearborn St &amp; Monroe St</td>\n",
       "      <td>TA1305000006</td>\n",
       "      <td>41.881956</td>\n",
       "      <td>-87.639955</td>\n",
       "      <td>41.880254</td>\n",
       "      <td>-87.629603</td>\n",
       "      <td>member</td>\n",
       "    </tr>\n",
       "    <tr>\n",
       "      <th>6226287</th>\n",
       "      <td>247538</td>\n",
       "      <td>C414F654A28635B8</td>\n",
       "      <td>electric_bike</td>\n",
       "      <td>2021-12-13 09:00:26</td>\n",
       "      <td>2021-12-13 09:14:39</td>\n",
       "      <td>Lawndale Ave &amp; 16th St</td>\n",
       "      <td>362.0</td>\n",
       "      <td>NaN</td>\n",
       "      <td>NaN</td>\n",
       "      <td>41.860000</td>\n",
       "      <td>-87.720000</td>\n",
       "      <td>41.850000</td>\n",
       "      <td>-87.710000</td>\n",
       "      <td>member</td>\n",
       "    </tr>\n",
       "    <tr>\n",
       "      <th>6226288</th>\n",
       "      <td>247539</td>\n",
       "      <td>37AC57E34B2E7E97</td>\n",
       "      <td>classic_bike</td>\n",
       "      <td>2021-12-13 08:45:32</td>\n",
       "      <td>2021-12-13 08:49:09</td>\n",
       "      <td>Michigan Ave &amp; Jackson Blvd</td>\n",
       "      <td>TA1309000002</td>\n",
       "      <td>Dearborn St &amp; Monroe St</td>\n",
       "      <td>TA1305000006</td>\n",
       "      <td>41.877850</td>\n",
       "      <td>-87.624080</td>\n",
       "      <td>41.881320</td>\n",
       "      <td>-87.629521</td>\n",
       "      <td>member</td>\n",
       "    </tr>\n",
       "  </tbody>\n",
       "</table>\n",
       "</div>"
      ],
      "text/plain": [
       "         Unnamed: 0           ride_id  rideable_type           started_at  \\\n",
       "6226284      247535  847431F3D5353AB7  electric_bike  2021-12-12 13:36:55   \n",
       "6226285      247536  CF407BBC3B9FAD63  electric_bike  2021-12-06 19:37:50   \n",
       "6226286      247537  60BB69EBF5440E92  electric_bike  2021-12-02 08:57:04   \n",
       "6226287      247538  C414F654A28635B8  electric_bike  2021-12-13 09:00:26   \n",
       "6226288      247539  37AC57E34B2E7E97   classic_bike  2021-12-13 08:45:32   \n",
       "\n",
       "                    ended_at           start_station_name start_station_id  \\\n",
       "6226284  2021-12-12 13:56:08        Canal St & Madison St            13341   \n",
       "6226285  2021-12-06 19:44:51        Canal St & Madison St            13341   \n",
       "6226286  2021-12-02 09:05:21        Canal St & Madison St            13341   \n",
       "6226287  2021-12-13 09:14:39       Lawndale Ave & 16th St            362.0   \n",
       "6226288  2021-12-13 08:49:09  Michigan Ave & Jackson Blvd     TA1309000002   \n",
       "\n",
       "                 end_station_name end_station_id  start_lat  start_lng  \\\n",
       "6226284                       NaN            NaN  41.882289 -87.639752   \n",
       "6226285  Kingsbury St & Kinzie St   KA1503000043  41.882123 -87.640053   \n",
       "6226286   Dearborn St & Monroe St   TA1305000006  41.881956 -87.639955   \n",
       "6226287                       NaN            NaN  41.860000 -87.720000   \n",
       "6226288   Dearborn St & Monroe St   TA1305000006  41.877850 -87.624080   \n",
       "\n",
       "           end_lat    end_lng member_casual  \n",
       "6226284  41.890000 -87.610000        casual  \n",
       "6226285  41.889106 -87.638862        member  \n",
       "6226286  41.880254 -87.629603        member  \n",
       "6226287  41.850000 -87.710000        member  \n",
       "6226288  41.881320 -87.629521        member  "
      ]
     },
     "execution_count": 3,
     "metadata": {},
     "output_type": "execute_result"
    }
   ],
   "source": [
    "dataset.tail()"
   ]
  },
  {
   "cell_type": "code",
   "execution_count": 4,
   "id": "edd11508",
   "metadata": {},
   "outputs": [
    {
     "data": {
      "text/plain": [
       "Unnamed: 0              int64\n",
       "ride_id                object\n",
       "rideable_type          object\n",
       "started_at             object\n",
       "ended_at               object\n",
       "start_station_name     object\n",
       "start_station_id       object\n",
       "end_station_name       object\n",
       "end_station_id         object\n",
       "start_lat             float64\n",
       "start_lng             float64\n",
       "end_lat               float64\n",
       "end_lng               float64\n",
       "member_casual          object\n",
       "dtype: object"
      ]
     },
     "execution_count": 4,
     "metadata": {},
     "output_type": "execute_result"
    }
   ],
   "source": [
    "dataset.dtypes"
   ]
  },
  {
   "cell_type": "markdown",
   "id": "f05396fd",
   "metadata": {},
   "source": [
    "### Dropping column named 'Unnamed: 0'\n",
    "Which does not provide insight over data"
   ]
  },
  {
   "cell_type": "code",
   "execution_count": 5,
   "id": "6af45e9e",
   "metadata": {},
   "outputs": [],
   "source": [
    "dataset.drop(labels='Unnamed: 0',inplace=True,axis=1)"
   ]
  },
  {
   "cell_type": "code",
   "execution_count": 8,
   "id": "84a6d5bd",
   "metadata": {},
   "outputs": [
    {
     "data": {
      "text/html": [
       "<div>\n",
       "<style scoped>\n",
       "    .dataframe tbody tr th:only-of-type {\n",
       "        vertical-align: middle;\n",
       "    }\n",
       "\n",
       "    .dataframe tbody tr th {\n",
       "        vertical-align: top;\n",
       "    }\n",
       "\n",
       "    .dataframe thead th {\n",
       "        text-align: right;\n",
       "    }\n",
       "</style>\n",
       "<table border=\"1\" class=\"dataframe\">\n",
       "  <thead>\n",
       "    <tr style=\"text-align: right;\">\n",
       "      <th></th>\n",
       "      <th>ride_id</th>\n",
       "      <th>rideable_type</th>\n",
       "      <th>started_at</th>\n",
       "      <th>ended_at</th>\n",
       "      <th>start_station_name</th>\n",
       "      <th>start_station_id</th>\n",
       "      <th>end_station_name</th>\n",
       "      <th>end_station_id</th>\n",
       "      <th>start_lat</th>\n",
       "      <th>start_lng</th>\n",
       "      <th>end_lat</th>\n",
       "      <th>end_lng</th>\n",
       "      <th>member_casual</th>\n",
       "    </tr>\n",
       "  </thead>\n",
       "  <tbody>\n",
       "    <tr>\n",
       "      <th>0</th>\n",
       "      <td>E19E6F1B8D4C42ED</td>\n",
       "      <td>electric_bike</td>\n",
       "      <td>2021-01-23 16:14:19</td>\n",
       "      <td>2021-01-23 16:24:44</td>\n",
       "      <td>California Ave &amp; Cortez St</td>\n",
       "      <td>17660</td>\n",
       "      <td>NaN</td>\n",
       "      <td>NaN</td>\n",
       "      <td>41.900341</td>\n",
       "      <td>-87.696743</td>\n",
       "      <td>41.89</td>\n",
       "      <td>-87.72</td>\n",
       "      <td>member</td>\n",
       "    </tr>\n",
       "    <tr>\n",
       "      <th>1</th>\n",
       "      <td>DC88F20C2C55F27F</td>\n",
       "      <td>electric_bike</td>\n",
       "      <td>2021-01-27 18:43:08</td>\n",
       "      <td>2021-01-27 18:47:12</td>\n",
       "      <td>California Ave &amp; Cortez St</td>\n",
       "      <td>17660</td>\n",
       "      <td>NaN</td>\n",
       "      <td>NaN</td>\n",
       "      <td>41.900333</td>\n",
       "      <td>-87.696707</td>\n",
       "      <td>41.90</td>\n",
       "      <td>-87.69</td>\n",
       "      <td>member</td>\n",
       "    </tr>\n",
       "    <tr>\n",
       "      <th>2</th>\n",
       "      <td>EC45C94683FE3F27</td>\n",
       "      <td>electric_bike</td>\n",
       "      <td>2021-01-21 22:35:54</td>\n",
       "      <td>2021-01-21 22:37:14</td>\n",
       "      <td>California Ave &amp; Cortez St</td>\n",
       "      <td>17660</td>\n",
       "      <td>NaN</td>\n",
       "      <td>NaN</td>\n",
       "      <td>41.900313</td>\n",
       "      <td>-87.696643</td>\n",
       "      <td>41.90</td>\n",
       "      <td>-87.70</td>\n",
       "      <td>member</td>\n",
       "    </tr>\n",
       "    <tr>\n",
       "      <th>3</th>\n",
       "      <td>4FA453A75AE377DB</td>\n",
       "      <td>electric_bike</td>\n",
       "      <td>2021-01-07 13:31:13</td>\n",
       "      <td>2021-01-07 13:42:55</td>\n",
       "      <td>California Ave &amp; Cortez St</td>\n",
       "      <td>17660</td>\n",
       "      <td>NaN</td>\n",
       "      <td>NaN</td>\n",
       "      <td>41.900399</td>\n",
       "      <td>-87.696662</td>\n",
       "      <td>41.92</td>\n",
       "      <td>-87.69</td>\n",
       "      <td>member</td>\n",
       "    </tr>\n",
       "    <tr>\n",
       "      <th>4</th>\n",
       "      <td>BE5E8EB4E7263A0B</td>\n",
       "      <td>electric_bike</td>\n",
       "      <td>2021-01-23 02:24:02</td>\n",
       "      <td>2021-01-23 02:24:45</td>\n",
       "      <td>California Ave &amp; Cortez St</td>\n",
       "      <td>17660</td>\n",
       "      <td>NaN</td>\n",
       "      <td>NaN</td>\n",
       "      <td>41.900326</td>\n",
       "      <td>-87.696697</td>\n",
       "      <td>41.90</td>\n",
       "      <td>-87.70</td>\n",
       "      <td>casual</td>\n",
       "    </tr>\n",
       "  </tbody>\n",
       "</table>\n",
       "</div>"
      ],
      "text/plain": [
       "            ride_id  rideable_type           started_at             ended_at  \\\n",
       "0  E19E6F1B8D4C42ED  electric_bike  2021-01-23 16:14:19  2021-01-23 16:24:44   \n",
       "1  DC88F20C2C55F27F  electric_bike  2021-01-27 18:43:08  2021-01-27 18:47:12   \n",
       "2  EC45C94683FE3F27  electric_bike  2021-01-21 22:35:54  2021-01-21 22:37:14   \n",
       "3  4FA453A75AE377DB  electric_bike  2021-01-07 13:31:13  2021-01-07 13:42:55   \n",
       "4  BE5E8EB4E7263A0B  electric_bike  2021-01-23 02:24:02  2021-01-23 02:24:45   \n",
       "\n",
       "           start_station_name start_station_id end_station_name  \\\n",
       "0  California Ave & Cortez St            17660              NaN   \n",
       "1  California Ave & Cortez St            17660              NaN   \n",
       "2  California Ave & Cortez St            17660              NaN   \n",
       "3  California Ave & Cortez St            17660              NaN   \n",
       "4  California Ave & Cortez St            17660              NaN   \n",
       "\n",
       "  end_station_id  start_lat  start_lng  end_lat  end_lng member_casual  \n",
       "0            NaN  41.900341 -87.696743    41.89   -87.72        member  \n",
       "1            NaN  41.900333 -87.696707    41.90   -87.69        member  \n",
       "2            NaN  41.900313 -87.696643    41.90   -87.70        member  \n",
       "3            NaN  41.900399 -87.696662    41.92   -87.69        member  \n",
       "4            NaN  41.900326 -87.696697    41.90   -87.70        casual  "
      ]
     },
     "execution_count": 8,
     "metadata": {},
     "output_type": "execute_result"
    }
   ],
   "source": [
    "dataset.head()"
   ]
  },
  {
   "cell_type": "markdown",
   "id": "2cd9fece",
   "metadata": {},
   "source": [
    "### Dropping less effective columns"
   ]
  },
  {
   "cell_type": "code",
   "execution_count": 9,
   "id": "132c479c",
   "metadata": {},
   "outputs": [],
   "source": [
    "dataset.drop(labels=['ride_id','start_station_id','end_station_id','start_lat','start_lng','end_lat','end_lng'],axis=1,inplace=True)"
   ]
  },
  {
   "cell_type": "code",
   "execution_count": 10,
   "id": "1d485ce8",
   "metadata": {},
   "outputs": [
    {
     "data": {
      "text/html": [
       "<div>\n",
       "<style scoped>\n",
       "    .dataframe tbody tr th:only-of-type {\n",
       "        vertical-align: middle;\n",
       "    }\n",
       "\n",
       "    .dataframe tbody tr th {\n",
       "        vertical-align: top;\n",
       "    }\n",
       "\n",
       "    .dataframe thead th {\n",
       "        text-align: right;\n",
       "    }\n",
       "</style>\n",
       "<table border=\"1\" class=\"dataframe\">\n",
       "  <thead>\n",
       "    <tr style=\"text-align: right;\">\n",
       "      <th></th>\n",
       "      <th>rideable_type</th>\n",
       "      <th>started_at</th>\n",
       "      <th>ended_at</th>\n",
       "      <th>start_station_name</th>\n",
       "      <th>end_station_name</th>\n",
       "      <th>member_casual</th>\n",
       "    </tr>\n",
       "  </thead>\n",
       "  <tbody>\n",
       "    <tr>\n",
       "      <th>6226284</th>\n",
       "      <td>electric_bike</td>\n",
       "      <td>2021-12-12 13:36:55</td>\n",
       "      <td>2021-12-12 13:56:08</td>\n",
       "      <td>Canal St &amp; Madison St</td>\n",
       "      <td>NaN</td>\n",
       "      <td>casual</td>\n",
       "    </tr>\n",
       "    <tr>\n",
       "      <th>6226285</th>\n",
       "      <td>electric_bike</td>\n",
       "      <td>2021-12-06 19:37:50</td>\n",
       "      <td>2021-12-06 19:44:51</td>\n",
       "      <td>Canal St &amp; Madison St</td>\n",
       "      <td>Kingsbury St &amp; Kinzie St</td>\n",
       "      <td>member</td>\n",
       "    </tr>\n",
       "    <tr>\n",
       "      <th>6226286</th>\n",
       "      <td>electric_bike</td>\n",
       "      <td>2021-12-02 08:57:04</td>\n",
       "      <td>2021-12-02 09:05:21</td>\n",
       "      <td>Canal St &amp; Madison St</td>\n",
       "      <td>Dearborn St &amp; Monroe St</td>\n",
       "      <td>member</td>\n",
       "    </tr>\n",
       "    <tr>\n",
       "      <th>6226287</th>\n",
       "      <td>electric_bike</td>\n",
       "      <td>2021-12-13 09:00:26</td>\n",
       "      <td>2021-12-13 09:14:39</td>\n",
       "      <td>Lawndale Ave &amp; 16th St</td>\n",
       "      <td>NaN</td>\n",
       "      <td>member</td>\n",
       "    </tr>\n",
       "    <tr>\n",
       "      <th>6226288</th>\n",
       "      <td>classic_bike</td>\n",
       "      <td>2021-12-13 08:45:32</td>\n",
       "      <td>2021-12-13 08:49:09</td>\n",
       "      <td>Michigan Ave &amp; Jackson Blvd</td>\n",
       "      <td>Dearborn St &amp; Monroe St</td>\n",
       "      <td>member</td>\n",
       "    </tr>\n",
       "  </tbody>\n",
       "</table>\n",
       "</div>"
      ],
      "text/plain": [
       "         rideable_type           started_at             ended_at  \\\n",
       "6226284  electric_bike  2021-12-12 13:36:55  2021-12-12 13:56:08   \n",
       "6226285  electric_bike  2021-12-06 19:37:50  2021-12-06 19:44:51   \n",
       "6226286  electric_bike  2021-12-02 08:57:04  2021-12-02 09:05:21   \n",
       "6226287  electric_bike  2021-12-13 09:00:26  2021-12-13 09:14:39   \n",
       "6226288   classic_bike  2021-12-13 08:45:32  2021-12-13 08:49:09   \n",
       "\n",
       "                  start_station_name          end_station_name member_casual  \n",
       "6226284        Canal St & Madison St                       NaN        casual  \n",
       "6226285        Canal St & Madison St  Kingsbury St & Kinzie St        member  \n",
       "6226286        Canal St & Madison St   Dearborn St & Monroe St        member  \n",
       "6226287       Lawndale Ave & 16th St                       NaN        member  \n",
       "6226288  Michigan Ave & Jackson Blvd   Dearborn St & Monroe St        member  "
      ]
     },
     "execution_count": 10,
     "metadata": {},
     "output_type": "execute_result"
    }
   ],
   "source": [
    "dataset.tail()"
   ]
  },
  {
   "cell_type": "markdown",
   "id": "3a2468e0",
   "metadata": {},
   "source": [
    "### Converting to datetime format\n",
    "'started_at' and 'ended_at' columns are of object types "
   ]
  },
  {
   "cell_type": "code",
   "execution_count": 11,
   "id": "2433d0f8",
   "metadata": {},
   "outputs": [],
   "source": [
    "dataset['started_at'] = pd.to_datetime(dataset['started_at'] )"
   ]
  },
  {
   "cell_type": "code",
   "execution_count": 12,
   "id": "b0e48e41",
   "metadata": {},
   "outputs": [],
   "source": [
    "dataset['ended_at'] = pd.to_datetime(dataset['ended_at'] )"
   ]
  },
  {
   "cell_type": "code",
   "execution_count": 13,
   "id": "9f847386",
   "metadata": {},
   "outputs": [
    {
     "data": {
      "text/plain": [
       "rideable_type                 object\n",
       "started_at            datetime64[ns]\n",
       "ended_at              datetime64[ns]\n",
       "start_station_name            object\n",
       "end_station_name              object\n",
       "member_casual                 object\n",
       "dtype: object"
      ]
     },
     "execution_count": 13,
     "metadata": {},
     "output_type": "execute_result"
    }
   ],
   "source": [
    "dataset.dtypes"
   ]
  },
  {
   "cell_type": "markdown",
   "id": "6f1ba419",
   "metadata": {},
   "source": [
    "### Calculating duration of ride\n",
    "since both 'started_at' and 'ended_at' are in *datetime* format we can directly subtract them to get *timedelta* type.     \n",
    "values are then stored in 'ride_length' column."
   ]
  },
  {
   "cell_type": "code",
   "execution_count": 14,
   "id": "680aff33-3110-42d5-968d-18ecd20e17b4",
   "metadata": {},
   "outputs": [],
   "source": [
    "dataset['ride_length'] = dataset['ended_at'] - dataset['started_at']"
   ]
  },
  {
   "cell_type": "code",
   "execution_count": 15,
   "id": "6c855a2c-bd01-40ea-bf22-d6b94372466d",
   "metadata": {},
   "outputs": [
    {
     "data": {
      "text/html": [
       "<div>\n",
       "<style scoped>\n",
       "    .dataframe tbody tr th:only-of-type {\n",
       "        vertical-align: middle;\n",
       "    }\n",
       "\n",
       "    .dataframe tbody tr th {\n",
       "        vertical-align: top;\n",
       "    }\n",
       "\n",
       "    .dataframe thead th {\n",
       "        text-align: right;\n",
       "    }\n",
       "</style>\n",
       "<table border=\"1\" class=\"dataframe\">\n",
       "  <thead>\n",
       "    <tr style=\"text-align: right;\">\n",
       "      <th></th>\n",
       "      <th>rideable_type</th>\n",
       "      <th>started_at</th>\n",
       "      <th>ended_at</th>\n",
       "      <th>start_station_name</th>\n",
       "      <th>end_station_name</th>\n",
       "      <th>member_casual</th>\n",
       "      <th>ride_length</th>\n",
       "    </tr>\n",
       "  </thead>\n",
       "  <tbody>\n",
       "    <tr>\n",
       "      <th>0</th>\n",
       "      <td>electric_bike</td>\n",
       "      <td>2021-01-23 16:14:19</td>\n",
       "      <td>2021-01-23 16:24:44</td>\n",
       "      <td>California Ave &amp; Cortez St</td>\n",
       "      <td>NaN</td>\n",
       "      <td>member</td>\n",
       "      <td>0 days 00:10:25</td>\n",
       "    </tr>\n",
       "    <tr>\n",
       "      <th>1</th>\n",
       "      <td>electric_bike</td>\n",
       "      <td>2021-01-27 18:43:08</td>\n",
       "      <td>2021-01-27 18:47:12</td>\n",
       "      <td>California Ave &amp; Cortez St</td>\n",
       "      <td>NaN</td>\n",
       "      <td>member</td>\n",
       "      <td>0 days 00:04:04</td>\n",
       "    </tr>\n",
       "    <tr>\n",
       "      <th>2</th>\n",
       "      <td>electric_bike</td>\n",
       "      <td>2021-01-21 22:35:54</td>\n",
       "      <td>2021-01-21 22:37:14</td>\n",
       "      <td>California Ave &amp; Cortez St</td>\n",
       "      <td>NaN</td>\n",
       "      <td>member</td>\n",
       "      <td>0 days 00:01:20</td>\n",
       "    </tr>\n",
       "    <tr>\n",
       "      <th>3</th>\n",
       "      <td>electric_bike</td>\n",
       "      <td>2021-01-07 13:31:13</td>\n",
       "      <td>2021-01-07 13:42:55</td>\n",
       "      <td>California Ave &amp; Cortez St</td>\n",
       "      <td>NaN</td>\n",
       "      <td>member</td>\n",
       "      <td>0 days 00:11:42</td>\n",
       "    </tr>\n",
       "    <tr>\n",
       "      <th>4</th>\n",
       "      <td>electric_bike</td>\n",
       "      <td>2021-01-23 02:24:02</td>\n",
       "      <td>2021-01-23 02:24:45</td>\n",
       "      <td>California Ave &amp; Cortez St</td>\n",
       "      <td>NaN</td>\n",
       "      <td>casual</td>\n",
       "      <td>0 days 00:00:43</td>\n",
       "    </tr>\n",
       "    <tr>\n",
       "      <th>...</th>\n",
       "      <td>...</td>\n",
       "      <td>...</td>\n",
       "      <td>...</td>\n",
       "      <td>...</td>\n",
       "      <td>...</td>\n",
       "      <td>...</td>\n",
       "      <td>...</td>\n",
       "    </tr>\n",
       "    <tr>\n",
       "      <th>6226284</th>\n",
       "      <td>electric_bike</td>\n",
       "      <td>2021-12-12 13:36:55</td>\n",
       "      <td>2021-12-12 13:56:08</td>\n",
       "      <td>Canal St &amp; Madison St</td>\n",
       "      <td>NaN</td>\n",
       "      <td>casual</td>\n",
       "      <td>0 days 00:19:13</td>\n",
       "    </tr>\n",
       "    <tr>\n",
       "      <th>6226285</th>\n",
       "      <td>electric_bike</td>\n",
       "      <td>2021-12-06 19:37:50</td>\n",
       "      <td>2021-12-06 19:44:51</td>\n",
       "      <td>Canal St &amp; Madison St</td>\n",
       "      <td>Kingsbury St &amp; Kinzie St</td>\n",
       "      <td>member</td>\n",
       "      <td>0 days 00:07:01</td>\n",
       "    </tr>\n",
       "    <tr>\n",
       "      <th>6226286</th>\n",
       "      <td>electric_bike</td>\n",
       "      <td>2021-12-02 08:57:04</td>\n",
       "      <td>2021-12-02 09:05:21</td>\n",
       "      <td>Canal St &amp; Madison St</td>\n",
       "      <td>Dearborn St &amp; Monroe St</td>\n",
       "      <td>member</td>\n",
       "      <td>0 days 00:08:17</td>\n",
       "    </tr>\n",
       "    <tr>\n",
       "      <th>6226287</th>\n",
       "      <td>electric_bike</td>\n",
       "      <td>2021-12-13 09:00:26</td>\n",
       "      <td>2021-12-13 09:14:39</td>\n",
       "      <td>Lawndale Ave &amp; 16th St</td>\n",
       "      <td>NaN</td>\n",
       "      <td>member</td>\n",
       "      <td>0 days 00:14:13</td>\n",
       "    </tr>\n",
       "    <tr>\n",
       "      <th>6226288</th>\n",
       "      <td>classic_bike</td>\n",
       "      <td>2021-12-13 08:45:32</td>\n",
       "      <td>2021-12-13 08:49:09</td>\n",
       "      <td>Michigan Ave &amp; Jackson Blvd</td>\n",
       "      <td>Dearborn St &amp; Monroe St</td>\n",
       "      <td>member</td>\n",
       "      <td>0 days 00:03:37</td>\n",
       "    </tr>\n",
       "  </tbody>\n",
       "</table>\n",
       "<p>6226289 rows × 7 columns</p>\n",
       "</div>"
      ],
      "text/plain": [
       "         rideable_type          started_at            ended_at  \\\n",
       "0        electric_bike 2021-01-23 16:14:19 2021-01-23 16:24:44   \n",
       "1        electric_bike 2021-01-27 18:43:08 2021-01-27 18:47:12   \n",
       "2        electric_bike 2021-01-21 22:35:54 2021-01-21 22:37:14   \n",
       "3        electric_bike 2021-01-07 13:31:13 2021-01-07 13:42:55   \n",
       "4        electric_bike 2021-01-23 02:24:02 2021-01-23 02:24:45   \n",
       "...                ...                 ...                 ...   \n",
       "6226284  electric_bike 2021-12-12 13:36:55 2021-12-12 13:56:08   \n",
       "6226285  electric_bike 2021-12-06 19:37:50 2021-12-06 19:44:51   \n",
       "6226286  electric_bike 2021-12-02 08:57:04 2021-12-02 09:05:21   \n",
       "6226287  electric_bike 2021-12-13 09:00:26 2021-12-13 09:14:39   \n",
       "6226288   classic_bike 2021-12-13 08:45:32 2021-12-13 08:49:09   \n",
       "\n",
       "                  start_station_name          end_station_name member_casual  \\\n",
       "0         California Ave & Cortez St                       NaN        member   \n",
       "1         California Ave & Cortez St                       NaN        member   \n",
       "2         California Ave & Cortez St                       NaN        member   \n",
       "3         California Ave & Cortez St                       NaN        member   \n",
       "4         California Ave & Cortez St                       NaN        casual   \n",
       "...                              ...                       ...           ...   \n",
       "6226284        Canal St & Madison St                       NaN        casual   \n",
       "6226285        Canal St & Madison St  Kingsbury St & Kinzie St        member   \n",
       "6226286        Canal St & Madison St   Dearborn St & Monroe St        member   \n",
       "6226287       Lawndale Ave & 16th St                       NaN        member   \n",
       "6226288  Michigan Ave & Jackson Blvd   Dearborn St & Monroe St        member   \n",
       "\n",
       "            ride_length  \n",
       "0       0 days 00:10:25  \n",
       "1       0 days 00:04:04  \n",
       "2       0 days 00:01:20  \n",
       "3       0 days 00:11:42  \n",
       "4       0 days 00:00:43  \n",
       "...                 ...  \n",
       "6226284 0 days 00:19:13  \n",
       "6226285 0 days 00:07:01  \n",
       "6226286 0 days 00:08:17  \n",
       "6226287 0 days 00:14:13  \n",
       "6226288 0 days 00:03:37  \n",
       "\n",
       "[6226289 rows x 7 columns]"
      ]
     },
     "execution_count": 15,
     "metadata": {},
     "output_type": "execute_result"
    }
   ],
   "source": [
    "dataset"
   ]
  },
  {
   "cell_type": "markdown",
   "id": "3d79af65",
   "metadata": {},
   "source": [
    "### Creating a column with day of week from 'started_at'\n",
    "pandas provide a class '.dt' which will return a numpy array of particular part of datetiem.\n",
    "\n",
    "creating a new column 'day_of_week' with day name"
   ]
  },
  {
   "cell_type": "code",
   "execution_count": 17,
   "id": "9d69e702-42a5-4e83-a916-3f6e338d68cb",
   "metadata": {},
   "outputs": [],
   "source": [
    "dataset['day_of_week']=dataset['started_at'].dt.day_name()"
   ]
  },
  {
   "cell_type": "code",
   "execution_count": 18,
   "id": "e8b0957a-561c-4a12-a6a7-a2430238ed01",
   "metadata": {},
   "outputs": [
    {
     "data": {
      "text/html": [
       "<div>\n",
       "<style scoped>\n",
       "    .dataframe tbody tr th:only-of-type {\n",
       "        vertical-align: middle;\n",
       "    }\n",
       "\n",
       "    .dataframe tbody tr th {\n",
       "        vertical-align: top;\n",
       "    }\n",
       "\n",
       "    .dataframe thead th {\n",
       "        text-align: right;\n",
       "    }\n",
       "</style>\n",
       "<table border=\"1\" class=\"dataframe\">\n",
       "  <thead>\n",
       "    <tr style=\"text-align: right;\">\n",
       "      <th></th>\n",
       "      <th>rideable_type</th>\n",
       "      <th>started_at</th>\n",
       "      <th>ended_at</th>\n",
       "      <th>start_station_name</th>\n",
       "      <th>end_station_name</th>\n",
       "      <th>member_casual</th>\n",
       "      <th>ride_length</th>\n",
       "      <th>day_of_week</th>\n",
       "    </tr>\n",
       "  </thead>\n",
       "  <tbody>\n",
       "    <tr>\n",
       "      <th>0</th>\n",
       "      <td>electric_bike</td>\n",
       "      <td>2021-01-23 16:14:19</td>\n",
       "      <td>2021-01-23 16:24:44</td>\n",
       "      <td>California Ave &amp; Cortez St</td>\n",
       "      <td>NaN</td>\n",
       "      <td>member</td>\n",
       "      <td>0 days 00:10:25</td>\n",
       "      <td>Saturday</td>\n",
       "    </tr>\n",
       "    <tr>\n",
       "      <th>1</th>\n",
       "      <td>electric_bike</td>\n",
       "      <td>2021-01-27 18:43:08</td>\n",
       "      <td>2021-01-27 18:47:12</td>\n",
       "      <td>California Ave &amp; Cortez St</td>\n",
       "      <td>NaN</td>\n",
       "      <td>member</td>\n",
       "      <td>0 days 00:04:04</td>\n",
       "      <td>Wednesday</td>\n",
       "    </tr>\n",
       "    <tr>\n",
       "      <th>2</th>\n",
       "      <td>electric_bike</td>\n",
       "      <td>2021-01-21 22:35:54</td>\n",
       "      <td>2021-01-21 22:37:14</td>\n",
       "      <td>California Ave &amp; Cortez St</td>\n",
       "      <td>NaN</td>\n",
       "      <td>member</td>\n",
       "      <td>0 days 00:01:20</td>\n",
       "      <td>Thursday</td>\n",
       "    </tr>\n",
       "    <tr>\n",
       "      <th>3</th>\n",
       "      <td>electric_bike</td>\n",
       "      <td>2021-01-07 13:31:13</td>\n",
       "      <td>2021-01-07 13:42:55</td>\n",
       "      <td>California Ave &amp; Cortez St</td>\n",
       "      <td>NaN</td>\n",
       "      <td>member</td>\n",
       "      <td>0 days 00:11:42</td>\n",
       "      <td>Thursday</td>\n",
       "    </tr>\n",
       "    <tr>\n",
       "      <th>4</th>\n",
       "      <td>electric_bike</td>\n",
       "      <td>2021-01-23 02:24:02</td>\n",
       "      <td>2021-01-23 02:24:45</td>\n",
       "      <td>California Ave &amp; Cortez St</td>\n",
       "      <td>NaN</td>\n",
       "      <td>casual</td>\n",
       "      <td>0 days 00:00:43</td>\n",
       "      <td>Saturday</td>\n",
       "    </tr>\n",
       "  </tbody>\n",
       "</table>\n",
       "</div>"
      ],
      "text/plain": [
       "   rideable_type          started_at            ended_at  \\\n",
       "0  electric_bike 2021-01-23 16:14:19 2021-01-23 16:24:44   \n",
       "1  electric_bike 2021-01-27 18:43:08 2021-01-27 18:47:12   \n",
       "2  electric_bike 2021-01-21 22:35:54 2021-01-21 22:37:14   \n",
       "3  electric_bike 2021-01-07 13:31:13 2021-01-07 13:42:55   \n",
       "4  electric_bike 2021-01-23 02:24:02 2021-01-23 02:24:45   \n",
       "\n",
       "           start_station_name end_station_name member_casual     ride_length  \\\n",
       "0  California Ave & Cortez St              NaN        member 0 days 00:10:25   \n",
       "1  California Ave & Cortez St              NaN        member 0 days 00:04:04   \n",
       "2  California Ave & Cortez St              NaN        member 0 days 00:01:20   \n",
       "3  California Ave & Cortez St              NaN        member 0 days 00:11:42   \n",
       "4  California Ave & Cortez St              NaN        casual 0 days 00:00:43   \n",
       "\n",
       "  day_of_week  \n",
       "0    Saturday  \n",
       "1   Wednesday  \n",
       "2    Thursday  \n",
       "3    Thursday  \n",
       "4    Saturday  "
      ]
     },
     "execution_count": 18,
     "metadata": {},
     "output_type": "execute_result"
    }
   ],
   "source": [
    "dataset.head()"
   ]
  },
  {
   "cell_type": "markdown",
   "id": "e4c6b25d",
   "metadata": {},
   "source": [
    "### Creating pivot tables with pandas library function 'pivot_table'"
   ]
  },
  {
   "cell_type": "code",
   "execution_count": 19,
   "id": "822c32df-3550-4806-bd59-6f60ae69e346",
   "metadata": {},
   "outputs": [],
   "source": [
    "table = pd.pivot_table(dataset,index = ['day_of_week','member_casual'],values=['ride_length'],aggfunc='count')"
   ]
  },
  {
   "cell_type": "code",
   "execution_count": 20,
   "id": "8d10f172-eed7-4cc5-b042-a80620659018",
   "metadata": {},
   "outputs": [],
   "source": [
    "table_v2 = pd.pivot_table(dataset,index ='day_of_week',columns='member_casual',values=['ride_length'],aggfunc='count')"
   ]
  },
  {
   "cell_type": "markdown",
   "id": "66b8c5f1",
   "metadata": {},
   "source": [
    "### Creating table with number of rides of member and casual by day name"
   ]
  },
  {
   "cell_type": "code",
   "execution_count": 21,
   "id": "4783ae1a-2622-4052-8eba-156b74fd7180",
   "metadata": {},
   "outputs": [
    {
     "data": {
      "text/html": [
       "<div>\n",
       "<style scoped>\n",
       "    .dataframe tbody tr th:only-of-type {\n",
       "        vertical-align: middle;\n",
       "    }\n",
       "\n",
       "    .dataframe tbody tr th {\n",
       "        vertical-align: top;\n",
       "    }\n",
       "\n",
       "    .dataframe thead tr th {\n",
       "        text-align: left;\n",
       "    }\n",
       "\n",
       "    .dataframe thead tr:last-of-type th {\n",
       "        text-align: right;\n",
       "    }\n",
       "</style>\n",
       "<table border=\"1\" class=\"dataframe\">\n",
       "  <thead>\n",
       "    <tr>\n",
       "      <th></th>\n",
       "      <th colspan=\"2\" halign=\"left\">ride_length</th>\n",
       "    </tr>\n",
       "    <tr>\n",
       "      <th>member_casual</th>\n",
       "      <th>casual</th>\n",
       "      <th>member</th>\n",
       "    </tr>\n",
       "    <tr>\n",
       "      <th>day_of_week</th>\n",
       "      <th></th>\n",
       "      <th></th>\n",
       "    </tr>\n",
       "  </thead>\n",
       "  <tbody>\n",
       "    <tr>\n",
       "      <th>Friday</th>\n",
       "      <td>403611</td>\n",
       "      <td>506224</td>\n",
       "    </tr>\n",
       "    <tr>\n",
       "      <th>Monday</th>\n",
       "      <td>308428</td>\n",
       "      <td>457875</td>\n",
       "    </tr>\n",
       "    <tr>\n",
       "      <th>Saturday</th>\n",
       "      <td>624747</td>\n",
       "      <td>495023</td>\n",
       "    </tr>\n",
       "    <tr>\n",
       "      <th>Sunday</th>\n",
       "      <td>533785</td>\n",
       "      <td>424280</td>\n",
       "    </tr>\n",
       "    <tr>\n",
       "      <th>Thursday</th>\n",
       "      <td>308393</td>\n",
       "      <td>498645</td>\n",
       "    </tr>\n",
       "    <tr>\n",
       "      <th>Tuesday</th>\n",
       "      <td>301474</td>\n",
       "      <td>523077</td>\n",
       "    </tr>\n",
       "    <tr>\n",
       "      <th>Wednesday</th>\n",
       "      <td>305809</td>\n",
       "      <td>534918</td>\n",
       "    </tr>\n",
       "  </tbody>\n",
       "</table>\n",
       "</div>"
      ],
      "text/plain": [
       "              ride_length        \n",
       "member_casual      casual  member\n",
       "day_of_week                      \n",
       "Friday             403611  506224\n",
       "Monday             308428  457875\n",
       "Saturday           624747  495023\n",
       "Sunday             533785  424280\n",
       "Thursday           308393  498645\n",
       "Tuesday            301474  523077\n",
       "Wednesday          305809  534918"
      ]
     },
     "execution_count": 21,
     "metadata": {},
     "output_type": "execute_result"
    }
   ],
   "source": [
    "table_v2"
   ]
  },
  {
   "cell_type": "code",
   "execution_count": 22,
   "id": "cf15be26-29b1-473c-9d24-ba00e8fef4e1",
   "metadata": {},
   "outputs": [],
   "source": [
    "import matplotlib.pyplot as plt"
   ]
  },
  {
   "cell_type": "code",
   "execution_count": 24,
   "id": "b657de74-1286-4ef7-832d-b56657ccf7eb",
   "metadata": {},
   "outputs": [
    {
     "data": {
      "image/png": "[encoded data removed]",
      "text/plain": [
       "<Figure size 640x480 with 1 Axes>"
      ]
     },
     "metadata": {},
     "output_type": "display_data"
    }
   ],
   "source": [
    "table_v2.plot(kind='bar',xlabel='day of week',ylabel='count of rides' )\n",
    "table_v2.to_csv('day_of_week_popularity.csv')"
   ]
  },
  {
   "cell_type": "code",
   "execution_count": 26,
   "id": "f9692b3c-2e39-4f4c-b35c-38ca91d2e0c3",
   "metadata": {},
   "outputs": [
    {
     "data": {
      "text/plain": [
       "rideable_type                  object\n",
       "started_at             datetime64[ns]\n",
       "ended_at               datetime64[ns]\n",
       "start_station_name             object\n",
       "end_station_name               object\n",
       "member_casual                  object\n",
       "ride_length           timedelta64[ns]\n",
       "day_of_week                    object\n",
       "dtype: object"
      ]
     },
     "execution_count": 26,
     "metadata": {},
     "output_type": "execute_result"
    }
   ],
   "source": [
    "dataset.dtypes"
   ]
  },
  {
   "cell_type": "markdown",
   "id": "0fcd5002",
   "metadata": {},
   "source": [
    "### Creating a column with month of the year from 'started_at'\n",
    "Here we can use the dt.month"
   ]
  },
  {
   "cell_type": "code",
   "execution_count": 27,
   "id": "87c46ba5-188d-40c9-b8fe-0012deceaf23",
   "metadata": {},
   "outputs": [],
   "source": [
    "dataset['month'] = dataset['started_at'].dt.month"
   ]
  },
  {
   "cell_type": "code",
   "execution_count": 28,
   "id": "405f95c6-a80d-4a49-8220-df07e0b1b0fc",
   "metadata": {},
   "outputs": [
    {
     "data": {
      "text/html": [
       "<div>\n",
       "<style scoped>\n",
       "    .dataframe tbody tr th:only-of-type {\n",
       "        vertical-align: middle;\n",
       "    }\n",
       "\n",
       "    .dataframe tbody tr th {\n",
       "        vertical-align: top;\n",
       "    }\n",
       "\n",
       "    .dataframe thead th {\n",
       "        text-align: right;\n",
       "    }\n",
       "</style>\n",
       "<table border=\"1\" class=\"dataframe\">\n",
       "  <thead>\n",
       "    <tr style=\"text-align: right;\">\n",
       "      <th></th>\n",
       "      <th>rideable_type</th>\n",
       "      <th>started_at</th>\n",
       "      <th>ended_at</th>\n",
       "      <th>start_station_name</th>\n",
       "      <th>end_station_name</th>\n",
       "      <th>member_casual</th>\n",
       "      <th>ride_length</th>\n",
       "      <th>day_of_week</th>\n",
       "      <th>month</th>\n",
       "    </tr>\n",
       "  </thead>\n",
       "  <tbody>\n",
       "    <tr>\n",
       "      <th>0</th>\n",
       "      <td>electric_bike</td>\n",
       "      <td>2021-01-23 16:14:19</td>\n",
       "      <td>2021-01-23 16:24:44</td>\n",
       "      <td>California Ave &amp; Cortez St</td>\n",
       "      <td>NaN</td>\n",
       "      <td>member</td>\n",
       "      <td>0 days 00:10:25</td>\n",
       "      <td>Saturday</td>\n",
       "      <td>1</td>\n",
       "    </tr>\n",
       "    <tr>\n",
       "      <th>1</th>\n",
       "      <td>electric_bike</td>\n",
       "      <td>2021-01-27 18:43:08</td>\n",
       "      <td>2021-01-27 18:47:12</td>\n",
       "      <td>California Ave &amp; Cortez St</td>\n",
       "      <td>NaN</td>\n",
       "      <td>member</td>\n",
       "      <td>0 days 00:04:04</td>\n",
       "      <td>Wednesday</td>\n",
       "      <td>1</td>\n",
       "    </tr>\n",
       "    <tr>\n",
       "      <th>2</th>\n",
       "      <td>electric_bike</td>\n",
       "      <td>2021-01-21 22:35:54</td>\n",
       "      <td>2021-01-21 22:37:14</td>\n",
       "      <td>California Ave &amp; Cortez St</td>\n",
       "      <td>NaN</td>\n",
       "      <td>member</td>\n",
       "      <td>0 days 00:01:20</td>\n",
       "      <td>Thursday</td>\n",
       "      <td>1</td>\n",
       "    </tr>\n",
       "    <tr>\n",
       "      <th>3</th>\n",
       "      <td>electric_bike</td>\n",
       "      <td>2021-01-07 13:31:13</td>\n",
       "      <td>2021-01-07 13:42:55</td>\n",
       "      <td>California Ave &amp; Cortez St</td>\n",
       "      <td>NaN</td>\n",
       "      <td>member</td>\n",
       "      <td>0 days 00:11:42</td>\n",
       "      <td>Thursday</td>\n",
       "      <td>1</td>\n",
       "    </tr>\n",
       "    <tr>\n",
       "      <th>4</th>\n",
       "      <td>electric_bike</td>\n",
       "      <td>2021-01-23 02:24:02</td>\n",
       "      <td>2021-01-23 02:24:45</td>\n",
       "      <td>California Ave &amp; Cortez St</td>\n",
       "      <td>NaN</td>\n",
       "      <td>casual</td>\n",
       "      <td>0 days 00:00:43</td>\n",
       "      <td>Saturday</td>\n",
       "      <td>1</td>\n",
       "    </tr>\n",
       "    <tr>\n",
       "      <th>...</th>\n",
       "      <td>...</td>\n",
       "      <td>...</td>\n",
       "      <td>...</td>\n",
       "      <td>...</td>\n",
       "      <td>...</td>\n",
       "      <td>...</td>\n",
       "      <td>...</td>\n",
       "      <td>...</td>\n",
       "      <td>...</td>\n",
       "    </tr>\n",
       "    <tr>\n",
       "      <th>6226284</th>\n",
       "      <td>electric_bike</td>\n",
       "      <td>2021-12-12 13:36:55</td>\n",
       "      <td>2021-12-12 13:56:08</td>\n",
       "      <td>Canal St &amp; Madison St</td>\n",
       "      <td>NaN</td>\n",
       "      <td>casual</td>\n",
       "      <td>0 days 00:19:13</td>\n",
       "      <td>Sunday</td>\n",
       "      <td>12</td>\n",
       "    </tr>\n",
       "    <tr>\n",
       "      <th>6226285</th>\n",
       "      <td>electric_bike</td>\n",
       "      <td>2021-12-06 19:37:50</td>\n",
       "      <td>2021-12-06 19:44:51</td>\n",
       "      <td>Canal St &amp; Madison St</td>\n",
       "      <td>Kingsbury St &amp; Kinzie St</td>\n",
       "      <td>member</td>\n",
       "      <td>0 days 00:07:01</td>\n",
       "      <td>Monday</td>\n",
       "      <td>12</td>\n",
       "    </tr>\n",
       "    <tr>\n",
       "      <th>6226286</th>\n",
       "      <td>electric_bike</td>\n",
       "      <td>2021-12-02 08:57:04</td>\n",
       "      <td>2021-12-02 09:05:21</td>\n",
       "      <td>Canal St &amp; Madison St</td>\n",
       "      <td>Dearborn St &amp; Monroe St</td>\n",
       "      <td>member</td>\n",
       "      <td>0 days 00:08:17</td>\n",
       "      <td>Thursday</td>\n",
       "      <td>12</td>\n",
       "    </tr>\n",
       "    <tr>\n",
       "      <th>6226287</th>\n",
       "      <td>electric_bike</td>\n",
       "      <td>2021-12-13 09:00:26</td>\n",
       "      <td>2021-12-13 09:14:39</td>\n",
       "      <td>Lawndale Ave &amp; 16th St</td>\n",
       "      <td>NaN</td>\n",
       "      <td>member</td>\n",
       "      <td>0 days 00:14:13</td>\n",
       "      <td>Monday</td>\n",
       "      <td>12</td>\n",
       "    </tr>\n",
       "    <tr>\n",
       "      <th>6226288</th>\n",
       "      <td>classic_bike</td>\n",
       "      <td>2021-12-13 08:45:32</td>\n",
       "      <td>2021-12-13 08:49:09</td>\n",
       "      <td>Michigan Ave &amp; Jackson Blvd</td>\n",
       "      <td>Dearborn St &amp; Monroe St</td>\n",
       "      <td>member</td>\n",
       "      <td>0 days 00:03:37</td>\n",
       "      <td>Monday</td>\n",
       "      <td>12</td>\n",
       "    </tr>\n",
       "  </tbody>\n",
       "</table>\n",
       "<p>6226289 rows × 9 columns</p>\n",
       "</div>"
      ],
      "text/plain": [
       "         rideable_type          started_at            ended_at  \\\n",
       "0        electric_bike 2021-01-23 16:14:19 2021-01-23 16:24:44   \n",
       "1        electric_bike 2021-01-27 18:43:08 2021-01-27 18:47:12   \n",
       "2        electric_bike 2021-01-21 22:35:54 2021-01-21 22:37:14   \n",
       "3        electric_bike 2021-01-07 13:31:13 2021-01-07 13:42:55   \n",
       "4        electric_bike 2021-01-23 02:24:02 2021-01-23 02:24:45   \n",
       "...                ...                 ...                 ...   \n",
       "6226284  electric_bike 2021-12-12 13:36:55 2021-12-12 13:56:08   \n",
       "6226285  electric_bike 2021-12-06 19:37:50 2021-12-06 19:44:51   \n",
       "6226286  electric_bike 2021-12-02 08:57:04 2021-12-02 09:05:21   \n",
       "6226287  electric_bike 2021-12-13 09:00:26 2021-12-13 09:14:39   \n",
       "6226288   classic_bike 2021-12-13 08:45:32 2021-12-13 08:49:09   \n",
       "\n",
       "                  start_station_name          end_station_name member_casual  \\\n",
       "0         California Ave & Cortez St                       NaN        member   \n",
       "1         California Ave & Cortez St                       NaN        member   \n",
       "2         California Ave & Cortez St                       NaN        member   \n",
       "3         California Ave & Cortez St                       NaN        member   \n",
       "4         California Ave & Cortez St                       NaN        casual   \n",
       "...                              ...                       ...           ...   \n",
       "6226284        Canal St & Madison St                       NaN        casual   \n",
       "6226285        Canal St & Madison St  Kingsbury St & Kinzie St        member   \n",
       "6226286        Canal St & Madison St   Dearborn St & Monroe St        member   \n",
       "6226287       Lawndale Ave & 16th St                       NaN        member   \n",
       "6226288  Michigan Ave & Jackson Blvd   Dearborn St & Monroe St        member   \n",
       "\n",
       "            ride_length day_of_week  month  \n",
       "0       0 days 00:10:25    Saturday      1  \n",
       "1       0 days 00:04:04   Wednesday      1  \n",
       "2       0 days 00:01:20    Thursday      1  \n",
       "3       0 days 00:11:42    Thursday      1  \n",
       "4       0 days 00:00:43    Saturday      1  \n",
       "...                 ...         ...    ...  \n",
       "6226284 0 days 00:19:13      Sunday     12  \n",
       "6226285 0 days 00:07:01      Monday     12  \n",
       "6226286 0 days 00:08:17    Thursday     12  \n",
       "6226287 0 days 00:14:13      Monday     12  \n",
       "6226288 0 days 00:03:37      Monday     12  \n",
       "\n",
       "[6226289 rows x 9 columns]"
      ]
     },
     "execution_count": 28,
     "metadata": {},
     "output_type": "execute_result"
    }
   ],
   "source": [
    "dataset"
   ]
  },
  {
   "cell_type": "markdown",
   "id": "967fcd00",
   "metadata": {},
   "source": [
    "### A table with number of rides of member and casual by month of year"
   ]
  },
  {
   "cell_type": "code",
   "execution_count": 29,
   "id": "c6e08bf8-db8b-4bfd-a41b-e3843c690244",
   "metadata": {},
   "outputs": [],
   "source": [
    "table_v3 = pd.pivot_table(dataset,index='month',columns='member_casual',values='ride_length',aggfunc='count')"
   ]
  },
  {
   "cell_type": "code",
   "execution_count": 30,
   "id": "9fdcee92-559e-4672-a69f-cca318649590",
   "metadata": {},
   "outputs": [
    {
     "data": {
      "text/html": [
       "<div>\n",
       "<style scoped>\n",
       "    .dataframe tbody tr th:only-of-type {\n",
       "        vertical-align: middle;\n",
       "    }\n",
       "\n",
       "    .dataframe tbody tr th {\n",
       "        vertical-align: top;\n",
       "    }\n",
       "\n",
       "    .dataframe thead th {\n",
       "        text-align: right;\n",
       "    }\n",
       "</style>\n",
       "<table border=\"1\" class=\"dataframe\">\n",
       "  <thead>\n",
       "    <tr style=\"text-align: right;\">\n",
       "      <th>member_casual</th>\n",
       "      <th>casual</th>\n",
       "      <th>member</th>\n",
       "    </tr>\n",
       "    <tr>\n",
       "      <th>month</th>\n",
       "      <th></th>\n",
       "      <th></th>\n",
       "    </tr>\n",
       "  </thead>\n",
       "  <tbody>\n",
       "    <tr>\n",
       "      <th>1</th>\n",
       "      <td>18117</td>\n",
       "      <td>78717</td>\n",
       "    </tr>\n",
       "    <tr>\n",
       "      <th>2</th>\n",
       "      <td>10131</td>\n",
       "      <td>39491</td>\n",
       "    </tr>\n",
       "    <tr>\n",
       "      <th>3</th>\n",
       "      <td>84033</td>\n",
       "      <td>144463</td>\n",
       "    </tr>\n",
       "    <tr>\n",
       "      <th>4</th>\n",
       "      <td>136601</td>\n",
       "      <td>200629</td>\n",
       "    </tr>\n",
       "    <tr>\n",
       "      <th>5</th>\n",
       "      <td>256916</td>\n",
       "      <td>274717</td>\n",
       "    </tr>\n",
       "    <tr>\n",
       "      <th>6</th>\n",
       "      <td>370681</td>\n",
       "      <td>358914</td>\n",
       "    </tr>\n",
       "    <tr>\n",
       "      <th>7</th>\n",
       "      <td>442056</td>\n",
       "      <td>380354</td>\n",
       "    </tr>\n",
       "    <tr>\n",
       "      <th>8</th>\n",
       "      <td>412671</td>\n",
       "      <td>391681</td>\n",
       "    </tr>\n",
       "    <tr>\n",
       "      <th>9</th>\n",
       "      <td>363890</td>\n",
       "      <td>392257</td>\n",
       "    </tr>\n",
       "    <tr>\n",
       "      <th>10</th>\n",
       "      <td>514484</td>\n",
       "      <td>747968</td>\n",
       "    </tr>\n",
       "    <tr>\n",
       "      <th>11</th>\n",
       "      <td>106929</td>\n",
       "      <td>253049</td>\n",
       "    </tr>\n",
       "    <tr>\n",
       "      <th>12</th>\n",
       "      <td>69738</td>\n",
       "      <td>177802</td>\n",
       "    </tr>\n",
       "  </tbody>\n",
       "</table>\n",
       "</div>"
      ],
      "text/plain": [
       "member_casual  casual  member\n",
       "month                        \n",
       "1               18117   78717\n",
       "2               10131   39491\n",
       "3               84033  144463\n",
       "4              136601  200629\n",
       "5              256916  274717\n",
       "6              370681  358914\n",
       "7              442056  380354\n",
       "8              412671  391681\n",
       "9              363890  392257\n",
       "10             514484  747968\n",
       "11             106929  253049\n",
       "12              69738  177802"
      ]
     },
     "execution_count": 30,
     "metadata": {},
     "output_type": "execute_result"
    }
   ],
   "source": [
    "table_v3"
   ]
  },
  {
   "cell_type": "code",
   "execution_count": 31,
   "id": "8d449701-4123-4d46-9b72-12d8fb61ae31",
   "metadata": {},
   "outputs": [
    {
     "data": {
      "image/png": "[encoded data removed]",
      "text/plain": [
       "<Figure size 640x480 with 1 Axes>"
      ]
     },
     "metadata": {},
     "output_type": "display_data"
    }
   ],
   "source": [
    "table_v3.plot(kind='line')\n",
    "table_v3.to_csv('no_of_ridesper_month_casualmember.csv')"
   ]
  },
  {
   "cell_type": "markdown",
   "id": "ac7b4834",
   "metadata": {},
   "source": [
    "### Table with rideable_type type popularity among casual and members"
   ]
  },
  {
   "cell_type": "code",
   "execution_count": 32,
   "id": "72700c3c-f29d-4b1b-9434-8c00b6f7152e",
   "metadata": {},
   "outputs": [],
   "source": [
    "table_v4 = pd.pivot_table(dataset,index='member_casual',columns='rideable_type',values='ride_length',aggfunc='count')"
   ]
  },
  {
   "cell_type": "code",
   "execution_count": 33,
   "id": "41b4a3b9-6b5e-4674-8572-61a7dd100a3a",
   "metadata": {},
   "outputs": [],
   "source": [
    "table_v4.to_csv('rideable_type.csv')"
   ]
  },
  {
   "cell_type": "code",
   "execution_count": 34,
   "id": "d8c6921a-3f35-4111-85f3-7cc03097a10f",
   "metadata": {},
   "outputs": [
    {
     "data": {
      "text/html": [
       "<div>\n",
       "<style scoped>\n",
       "    .dataframe tbody tr th:only-of-type {\n",
       "        vertical-align: middle;\n",
       "    }\n",
       "\n",
       "    .dataframe tbody tr th {\n",
       "        vertical-align: top;\n",
       "    }\n",
       "\n",
       "    .dataframe thead th {\n",
       "        text-align: right;\n",
       "    }\n",
       "</style>\n",
       "<table border=\"1\" class=\"dataframe\">\n",
       "  <thead>\n",
       "    <tr style=\"text-align: right;\">\n",
       "      <th>rideable_type</th>\n",
       "      <th>classic_bike</th>\n",
       "      <th>docked_bike</th>\n",
       "      <th>electric_bike</th>\n",
       "    </tr>\n",
       "    <tr>\n",
       "      <th>member_casual</th>\n",
       "      <th></th>\n",
       "      <th></th>\n",
       "      <th></th>\n",
       "    </tr>\n",
       "  </thead>\n",
       "  <tbody>\n",
       "    <tr>\n",
       "      <th>casual</th>\n",
       "      <td>1372246</td>\n",
       "      <td>335226</td>\n",
       "      <td>1078775</td>\n",
       "    </tr>\n",
       "    <tr>\n",
       "      <th>member</th>\n",
       "      <td>2194921</td>\n",
       "      <td>1</td>\n",
       "      <td>1245120</td>\n",
       "    </tr>\n",
       "  </tbody>\n",
       "</table>\n",
       "</div>"
      ],
      "text/plain": [
       "rideable_type  classic_bike  docked_bike  electric_bike\n",
       "member_casual                                          \n",
       "casual              1372246       335226        1078775\n",
       "member              2194921            1        1245120"
      ]
     },
     "execution_count": 34,
     "metadata": {},
     "output_type": "execute_result"
    }
   ],
   "source": [
    "table_v4.head()"
   ]
  },
  {
   "cell_type": "code",
   "execution_count": 35,
   "id": "9b36fcf8-a95c-4811-8c32-e487ed41de3c",
   "metadata": {},
   "outputs": [
    {
     "data": {
      "text/plain": [
       "<AxesSubplot:xlabel='member_casual', ylabel='popularity'>"
      ]
     },
     "execution_count": 35,
     "metadata": {},
     "output_type": "execute_result"
    },
    {
     "data": {
      "image/png": "[encoded data removed]",
      "text/plain": [
       "<Figure size 640x480 with 1 Axes>"
      ]
     },
     "metadata": {},
     "output_type": "display_data"
    }
   ],
   "source": [
    "table_v4.plot(kind='bar',ylabel='popularity',colormap='PRGn')"
   ]
  },
  {
   "cell_type": "markdown",
   "id": "abf10eaa",
   "metadata": {},
   "source": [
    "### Finding popular start_station_name and sorting them in descending order\n",
    "task can also be achieved with pivot tables"
   ]
  },
  {
   "cell_type": "code",
   "execution_count": 76,
   "id": "bef56d8f-e1ba-49fa-8e89-fbaa247c6ebd",
   "metadata": {},
   "outputs": [],
   "source": [
    "df=dataset.groupby(['start_station_name']).count()"
   ]
  },
  {
   "cell_type": "code",
   "execution_count": 77,
   "id": "2735af1d-31ed-4a5e-93c2-6e65fe0ee7bb",
   "metadata": {},
   "outputs": [],
   "source": [
    "df.sort_values('month',ascending=False,inplace=True)"
   ]
  },
  {
   "cell_type": "code",
   "execution_count": 78,
   "id": "50edd4ec-e320-4ef5-848d-e68dd0e7d2e8",
   "metadata": {},
   "outputs": [],
   "source": [
    "df=df['month'].head(10)"
   ]
  },
  {
   "cell_type": "code",
   "execution_count": 79,
   "id": "162d51a7",
   "metadata": {},
   "outputs": [],
   "source": [
    "df.to_csv('start_station.csv')"
   ]
  },
  {
   "cell_type": "code",
   "execution_count": 80,
   "id": "1e4d8989",
   "metadata": {
    "scrolled": true
   },
   "outputs": [
    {
     "data": {
      "text/plain": [
       "start_station_name\n",
       "Streeter Dr & Grand Ave     88755\n",
       "Wells St & Concord Ln       48211\n",
       "Michigan Ave & Oak St       47605\n",
       "Millennium Park             46438\n",
       "Clark St & Elm St           45623\n",
       "Wells St & Elm St           41582\n",
       "Theater on the Lake         39348\n",
       "Kingsbury St & Kinzie St    37327\n",
       "Clark St & Lincoln Ave      36576\n",
       "Clark St & Armitage Ave     36303\n",
       "Name: month, dtype: int64"
      ]
     },
     "execution_count": 80,
     "metadata": {},
     "output_type": "execute_result"
    }
   ],
   "source": [
    "df"
   ]
  },
  {
   "cell_type": "markdown",
   "id": "883e122a",
   "metadata": {},
   "source": [
    "### Finding popular end_station_name and sorting them in descending order"
   ]
  },
  {
   "cell_type": "code",
   "execution_count": 72,
   "id": "12e95c52-3182-43d8-9994-6ab4d64adce3",
   "metadata": {},
   "outputs": [],
   "source": [
    "df_2=dataset.groupby(['end_station_name']).count()"
   ]
  },
  {
   "cell_type": "code",
   "execution_count": 73,
   "id": "249a20cf-3ab1-43db-a34a-317b4d94054e",
   "metadata": {},
   "outputs": [],
   "source": [
    "df_2.sort_values('month',ascending=False,inplace=True)"
   ]
  },
  {
   "cell_type": "code",
   "execution_count": 74,
   "id": "907890d8-3cc3-4b24-b397-7845db83b948",
   "metadata": {},
   "outputs": [],
   "source": [
    "df_2=df_2['month'].head(10)"
   ]
  },
  {
   "cell_type": "code",
   "execution_count": 75,
   "id": "9d51cd8b",
   "metadata": {},
   "outputs": [
    {
     "data": {
      "text/plain": [
       "end_station_name\n",
       "Streeter Dr & Grand Ave     89624\n",
       "Wells St & Concord Ln       48458\n",
       "Michigan Ave & Oak St       48097\n",
       "Millennium Park             47143\n",
       "Clark St & Elm St           44865\n",
       "Wells St & Elm St           41258\n",
       "Theater on the Lake         39547\n",
       "Kingsbury St & Kinzie St    36606\n",
       "Clark St & Lincoln Ave      36486\n",
       "Wabash Ave & Grand Ave      36415\n",
       "Name: month, dtype: int64"
      ]
     },
     "execution_count": 75,
     "metadata": {},
     "output_type": "execute_result"
    }
   ],
   "source": [
    "df_2"
   ]
  },
  {
   "cell_type": "code",
   "execution_count": 81,
   "id": "3bf1ef46-3d8e-4c9f-a4a4-b8fa901abdab",
   "metadata": {},
   "outputs": [],
   "source": [
    "df_2.to_csv('end_station.csv')"
   ]
  },
  {
   "cell_type": "code",
   "execution_count": 54,
   "id": "60a29804-4607-4c66-b9ff-b35b9b5177b9",
   "metadata": {},
   "outputs": [
    {
     "data": {
      "text/html": [
       "<div>\n",
       "<style scoped>\n",
       "    .dataframe tbody tr th:only-of-type {\n",
       "        vertical-align: middle;\n",
       "    }\n",
       "\n",
       "    .dataframe tbody tr th {\n",
       "        vertical-align: top;\n",
       "    }\n",
       "\n",
       "    .dataframe thead th {\n",
       "        text-align: right;\n",
       "    }\n",
       "</style>\n",
       "<table border=\"1\" class=\"dataframe\">\n",
       "  <thead>\n",
       "    <tr style=\"text-align: right;\">\n",
       "      <th></th>\n",
       "      <th>rideable_type</th>\n",
       "      <th>started_at</th>\n",
       "      <th>ended_at</th>\n",
       "      <th>start_station_name</th>\n",
       "      <th>end_station_name</th>\n",
       "      <th>member_casual</th>\n",
       "      <th>ride_length</th>\n",
       "      <th>day_of_week</th>\n",
       "      <th>month</th>\n",
       "    </tr>\n",
       "  </thead>\n",
       "  <tbody>\n",
       "    <tr>\n",
       "      <th>0</th>\n",
       "      <td>electric_bike</td>\n",
       "      <td>2021-01-23 16:14:19</td>\n",
       "      <td>2021-01-23 16:24:44</td>\n",
       "      <td>California Ave &amp; Cortez St</td>\n",
       "      <td>NaN</td>\n",
       "      <td>member</td>\n",
       "      <td>0 days 00:10:25</td>\n",
       "      <td>Saturday</td>\n",
       "      <td>1</td>\n",
       "    </tr>\n",
       "    <tr>\n",
       "      <th>1</th>\n",
       "      <td>electric_bike</td>\n",
       "      <td>2021-01-27 18:43:08</td>\n",
       "      <td>2021-01-27 18:47:12</td>\n",
       "      <td>California Ave &amp; Cortez St</td>\n",
       "      <td>NaN</td>\n",
       "      <td>member</td>\n",
       "      <td>0 days 00:04:04</td>\n",
       "      <td>Wednesday</td>\n",
       "      <td>1</td>\n",
       "    </tr>\n",
       "    <tr>\n",
       "      <th>2</th>\n",
       "      <td>electric_bike</td>\n",
       "      <td>2021-01-21 22:35:54</td>\n",
       "      <td>2021-01-21 22:37:14</td>\n",
       "      <td>California Ave &amp; Cortez St</td>\n",
       "      <td>NaN</td>\n",
       "      <td>member</td>\n",
       "      <td>0 days 00:01:20</td>\n",
       "      <td>Thursday</td>\n",
       "      <td>1</td>\n",
       "    </tr>\n",
       "    <tr>\n",
       "      <th>3</th>\n",
       "      <td>electric_bike</td>\n",
       "      <td>2021-01-07 13:31:13</td>\n",
       "      <td>2021-01-07 13:42:55</td>\n",
       "      <td>California Ave &amp; Cortez St</td>\n",
       "      <td>NaN</td>\n",
       "      <td>member</td>\n",
       "      <td>0 days 00:11:42</td>\n",
       "      <td>Thursday</td>\n",
       "      <td>1</td>\n",
       "    </tr>\n",
       "    <tr>\n",
       "      <th>4</th>\n",
       "      <td>electric_bike</td>\n",
       "      <td>2021-01-23 02:24:02</td>\n",
       "      <td>2021-01-23 02:24:45</td>\n",
       "      <td>California Ave &amp; Cortez St</td>\n",
       "      <td>NaN</td>\n",
       "      <td>casual</td>\n",
       "      <td>0 days 00:00:43</td>\n",
       "      <td>Saturday</td>\n",
       "      <td>1</td>\n",
       "    </tr>\n",
       "  </tbody>\n",
       "</table>\n",
       "</div>"
      ],
      "text/plain": [
       "   rideable_type          started_at            ended_at  \\\n",
       "0  electric_bike 2021-01-23 16:14:19 2021-01-23 16:24:44   \n",
       "1  electric_bike 2021-01-27 18:43:08 2021-01-27 18:47:12   \n",
       "2  electric_bike 2021-01-21 22:35:54 2021-01-21 22:37:14   \n",
       "3  electric_bike 2021-01-07 13:31:13 2021-01-07 13:42:55   \n",
       "4  electric_bike 2021-01-23 02:24:02 2021-01-23 02:24:45   \n",
       "\n",
       "           start_station_name end_station_name member_casual     ride_length  \\\n",
       "0  California Ave & Cortez St              NaN        member 0 days 00:10:25   \n",
       "1  California Ave & Cortez St              NaN        member 0 days 00:04:04   \n",
       "2  California Ave & Cortez St              NaN        member 0 days 00:01:20   \n",
       "3  California Ave & Cortez St              NaN        member 0 days 00:11:42   \n",
       "4  California Ave & Cortez St              NaN        casual 0 days 00:00:43   \n",
       "\n",
       "  day_of_week  month  \n",
       "0    Saturday      1  \n",
       "1   Wednesday      1  \n",
       "2    Thursday      1  \n",
       "3    Thursday      1  \n",
       "4    Saturday      1  "
      ]
     },
     "execution_count": 54,
     "metadata": {},
     "output_type": "execute_result"
    }
   ],
   "source": [
    "dataset.head()"
   ]
  },
  {
   "cell_type": "markdown",
   "id": "9745e60b",
   "metadata": {},
   "source": [
    "### Table of average ride duration of member and casual by day of name"
   ]
  },
  {
   "cell_type": "code",
   "execution_count": 55,
   "id": "86450a4a-2756-4f9f-a71a-66f5f436e457",
   "metadata": {},
   "outputs": [],
   "source": [
    "table_v5=pd.pivot_table(dataset,index=['day_of_week','member_casual'],values='ride_length',aggfunc='mean')"
   ]
  },
  {
   "cell_type": "code",
   "execution_count": 56,
   "id": "d09b8c17-dbf8-4b16-bba8-e5a328825daa",
   "metadata": {},
   "outputs": [],
   "source": [
    "table_v5.to_csv('average_ridelength.csv')"
   ]
  },
  {
   "cell_type": "markdown",
   "id": "4e2a27b7",
   "metadata": {},
   "source": [
    "### Visuals are created in Google sheets from pivot tables created in python"
   ]
  },
  {
   "cell_type": "code",
   "execution_count": null,
   "id": "778b1347",
   "metadata": {},
   "outputs": [],
   "source": []
  }
 ],
 "metadata": {
  "kernelspec": {
   "display_name": "Python 3 (ipykernel)",
   "language": "python",
   "name": "python3"
  },
  "language_info": {
   "codemirror_mode": {
    "name": "ipython",
    "version": 3
   },
   "file_extension": ".py",
   "mimetype": "text/x-python",
   "name": "python",
   "nbconvert_exporter": "python",
   "pygments_lexer": "ipython3",
   "version": "3.9.13"
  }
 },
 "nbformat": 4,
 "nbformat_minor": 5
}
