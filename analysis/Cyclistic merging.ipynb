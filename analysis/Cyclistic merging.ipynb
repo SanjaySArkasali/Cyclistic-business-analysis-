{
 "cells": [
  {
   "cell_type": "code",
   "execution_count": 13,
   "id": "b4892a41",
   "metadata": {},
   "outputs": [],
   "source": [
    "import pandas as pd"
   ]
  },
  {
   "cell_type": "code",
   "execution_count": 14,
   "id": "2af5fd15",
   "metadata": {},
   "outputs": [],
   "source": [
    "dataset = pd.read_csv(\"202101-divvy-tripdata.csv\")"
   ]
  },
  {
   "cell_type": "code",
   "execution_count": 15,
   "id": "49303a6a",
   "metadata": {},
   "outputs": [
    {
     "data": {
      "text/plain": [
       "ride_id                object\n",
       "rideable_type          object\n",
       "started_at             object\n",
       "ended_at               object\n",
       "start_station_name     object\n",
       "start_station_id       object\n",
       "end_station_name       object\n",
       "end_station_id         object\n",
       "start_lat             float64\n",
       "start_lng             float64\n",
       "end_lat               float64\n",
       "end_lng               float64\n",
       "member_casual          object\n",
       "dtype: object"
      ]
     },
     "execution_count": 15,
     "metadata": {},
     "output_type": "execute_result"
    }
   ],
   "source": [
    "dataset.dtypes"
   ]
  },
  {
   "cell_type": "code",
   "execution_count": 16,
   "id": "feda498e",
   "metadata": {},
   "outputs": [],
   "source": [
    "temp = pd.read_csv(\"202102-divvy-tripdata.csv\")"
   ]
  },
  {
   "cell_type": "code",
   "execution_count": 17,
   "id": "575d9ea9",
   "metadata": {},
   "outputs": [
    {
     "data": {
      "text/plain": [
       "ride_id                object\n",
       "rideable_type          object\n",
       "started_at             object\n",
       "ended_at               object\n",
       "start_station_name     object\n",
       "start_station_id       object\n",
       "end_station_name       object\n",
       "end_station_id         object\n",
       "start_lat             float64\n",
       "start_lng             float64\n",
       "end_lat               float64\n",
       "end_lng               float64\n",
       "member_casual          object\n",
       "dtype: object"
      ]
     },
     "execution_count": 17,
     "metadata": {},
     "output_type": "execute_result"
    }
   ],
   "source": [
    "temp.dtypes"
   ]
  },
  {
   "cell_type": "code",
   "execution_count": 20,
   "id": "f31e637a",
   "metadata": {},
   "outputs": [],
   "source": [
    "dataset_merge = pd.concat([dataset,temp])"
   ]
  },
  {
   "cell_type": "code",
   "execution_count": 21,
   "id": "06217dd0",
   "metadata": {},
   "outputs": [
    {
     "data": {
      "text/plain": [
       "ride_id               146456\n",
       "rideable_type         146456\n",
       "started_at            146456\n",
       "ended_at              146456\n",
       "start_station_name    133785\n",
       "start_station_id      133785\n",
       "end_station_name      130821\n",
       "end_station_id        130821\n",
       "start_lat             146456\n",
       "start_lng             146456\n",
       "end_lat               146139\n",
       "end_lng               146139\n",
       "member_casual         146456\n",
       "dtype: int64"
      ]
     },
     "execution_count": 21,
     "metadata": {},
     "output_type": "execute_result"
    }
   ],
   "source": [
    "dataset_merge.count()"
   ]
  },
  {
   "cell_type": "code",
   "execution_count": 22,
   "id": "6412e056",
   "metadata": {},
   "outputs": [],
   "source": [
    "temp = pd.read_csv(\"202103-divvy-tripdata.csv\")"
   ]
  },
  {
   "cell_type": "code",
   "execution_count": 24,
   "id": "433f60d1",
   "metadata": {},
   "outputs": [
    {
     "data": {
      "text/plain": [
       "ride_id               228496\n",
       "rideable_type         228496\n",
       "started_at            228496\n",
       "ended_at              228496\n",
       "start_station_name    213648\n",
       "start_station_id      213648\n",
       "end_station_name      211769\n",
       "end_station_id        211769\n",
       "start_lat             228496\n",
       "start_lng             228496\n",
       "end_lat               228329\n",
       "end_lng               228329\n",
       "member_casual         228496\n",
       "dtype: int64"
      ]
     },
     "execution_count": 24,
     "metadata": {},
     "output_type": "execute_result"
    }
   ],
   "source": [
    "temp.count(0)"
   ]
  },
  {
   "cell_type": "code",
   "execution_count": 25,
   "id": "fc99e0c1",
   "metadata": {},
   "outputs": [],
   "source": [
    "dataset_merge = pd.concat([dataset_merge , temp ])"
   ]
  },
  {
   "cell_type": "code",
   "execution_count": 29,
   "id": "7131a39f",
   "metadata": {},
   "outputs": [
    {
     "data": {
      "text/plain": [
       "ride_id                object\n",
       "rideable_type          object\n",
       "started_at             object\n",
       "ended_at               object\n",
       "start_station_name     object\n",
       "start_station_id       object\n",
       "end_station_name       object\n",
       "end_station_id         object\n",
       "start_lat             float64\n",
       "start_lng             float64\n",
       "end_lat               float64\n",
       "end_lng               float64\n",
       "member_casual          object\n",
       "dtype: object"
      ]
     },
     "execution_count": 29,
     "metadata": {},
     "output_type": "execute_result"
    }
   ],
   "source": [
    "dataset_merge.dtypes"
   ]
  },
  {
   "cell_type": "code",
   "execution_count": 30,
   "id": "3b2e9504",
   "metadata": {},
   "outputs": [],
   "source": [
    "temp = pd.read_csv(\"202104-divvy-tripdata.csv\")"
   ]
  },
  {
   "cell_type": "code",
   "execution_count": 32,
   "id": "29a6cae2",
   "metadata": {},
   "outputs": [
    {
     "data": {
      "text/plain": [
       "ride_id               337230\n",
       "rideable_type         337230\n",
       "started_at            337230\n",
       "ended_at              337230\n",
       "start_station_name    311174\n",
       "start_station_id      311174\n",
       "end_station_name      309056\n",
       "end_station_id        309056\n",
       "start_lat             337230\n",
       "start_lng             337230\n",
       "end_lat               336963\n",
       "end_lng               336963\n",
       "member_casual         337230\n",
       "dtype: int64"
      ]
     },
     "execution_count": 32,
     "metadata": {},
     "output_type": "execute_result"
    }
   ],
   "source": [
    "temp.count()"
   ]
  },
  {
   "cell_type": "code",
   "execution_count": 33,
   "id": "9c29649d",
   "metadata": {},
   "outputs": [],
   "source": [
    "dataset_merge = pd.concat([dataset_merge , temp ])"
   ]
  },
  {
   "cell_type": "code",
   "execution_count": 35,
   "id": "1d195814",
   "metadata": {},
   "outputs": [
    {
     "data": {
      "text/plain": [
       "ride_id               712182\n",
       "rideable_type         712182\n",
       "started_at            712182\n",
       "ended_at              712182\n",
       "start_station_name    658607\n",
       "start_station_id      658607\n",
       "end_station_name      651646\n",
       "end_station_id        651646\n",
       "start_lat             712182\n",
       "start_lng             712182\n",
       "end_lat               711431\n",
       "end_lng               711431\n",
       "member_casual         712182\n",
       "dtype: int64"
      ]
     },
     "execution_count": 35,
     "metadata": {},
     "output_type": "execute_result"
    }
   ],
   "source": [
    "dataset_merge.count()"
   ]
  },
  {
   "cell_type": "code",
   "execution_count": 36,
   "id": "7a234da2",
   "metadata": {},
   "outputs": [],
   "source": [
    "temp = pd.read_csv(\"202105-divvy-tripdata.csv\")"
   ]
  },
  {
   "cell_type": "code",
   "execution_count": 41,
   "id": "1bd4ab3a",
   "metadata": {},
   "outputs": [
    {
     "data": {
      "text/plain": [
       "ride_id               531633\n",
       "rideable_type         531633\n",
       "started_at            531633\n",
       "ended_at              531633\n",
       "start_station_name    477889\n",
       "start_station_id      477889\n",
       "end_station_name      473439\n",
       "end_station_id        473439\n",
       "start_lat             531633\n",
       "start_lng             531633\n",
       "end_lat               531181\n",
       "end_lng               531181\n",
       "member_casual         531633\n",
       "dtype: int64"
      ]
     },
     "execution_count": 41,
     "metadata": {},
     "output_type": "execute_result"
    }
   ],
   "source": [
    "temp.count()"
   ]
  },
  {
   "cell_type": "code",
   "execution_count": 42,
   "id": "64577870",
   "metadata": {},
   "outputs": [],
   "source": [
    "dataset_merge = pd.concat([dataset_merge , temp ])"
   ]
  },
  {
   "cell_type": "code",
   "execution_count": 45,
   "id": "f8dbcab5",
   "metadata": {},
   "outputs": [
    {
     "data": {
      "text/plain": [
       "ride_id               1243815\n",
       "rideable_type         1243815\n",
       "started_at            1243815\n",
       "ended_at              1243815\n",
       "start_station_name    1136496\n",
       "start_station_id      1136496\n",
       "end_station_name      1125085\n",
       "end_station_id        1125085\n",
       "start_lat             1243815\n",
       "start_lng             1243815\n",
       "end_lat               1242612\n",
       "end_lng               1242612\n",
       "member_casual         1243815\n",
       "dtype: int64"
      ]
     },
     "execution_count": 45,
     "metadata": {},
     "output_type": "execute_result"
    }
   ],
   "source": [
    "dataset_merge.count()"
   ]
  },
  {
   "cell_type": "code",
   "execution_count": 46,
   "id": "34429a9e",
   "metadata": {},
   "outputs": [],
   "source": [
    "temp = pd.read_csv(\"202106-divvy-tripdata.csv\")"
   ]
  },
  {
   "cell_type": "code",
   "execution_count": 47,
   "id": "a92d0c80",
   "metadata": {},
   "outputs": [],
   "source": [
    "dataset_merge = pd.concat([dataset_merge , temp ])"
   ]
  },
  {
   "cell_type": "code",
   "execution_count": 50,
   "id": "17d9f354",
   "metadata": {},
   "outputs": [
    {
     "data": {
      "text/plain": [
       "ride_id               1973410\n",
       "rideable_type         1973410\n",
       "started_at            1973410\n",
       "ended_at              1973410\n",
       "start_station_name    1785998\n",
       "start_station_id      1785998\n",
       "end_station_name      1768293\n",
       "end_station_id        1768293\n",
       "start_lat             1973410\n",
       "start_lng             1973410\n",
       "end_lat               1971490\n",
       "end_lng               1971490\n",
       "member_casual         1973410\n",
       "dtype: int64"
      ]
     },
     "execution_count": 50,
     "metadata": {},
     "output_type": "execute_result"
    }
   ],
   "source": [
    "dataset_merge.count()"
   ]
  },
  {
   "cell_type": "code",
   "execution_count": 51,
   "id": "cc573f75",
   "metadata": {},
   "outputs": [],
   "source": [
    "temp = pd.read_csv(\"202107-divvy-tripdata.csv\")"
   ]
  },
  {
   "cell_type": "code",
   "execution_count": 53,
   "id": "809c444a",
   "metadata": {},
   "outputs": [
    {
     "data": {
      "text/plain": [
       "ride_id               822410\n",
       "rideable_type         822410\n",
       "started_at            822410\n",
       "ended_at              822410\n",
       "start_station_name    735147\n",
       "start_station_id      735148\n",
       "end_station_name      729252\n",
       "end_station_id        729252\n",
       "start_lat             822410\n",
       "start_lng             822410\n",
       "end_lat               821679\n",
       "end_lng               821679\n",
       "member_casual         822410\n",
       "dtype: int64"
      ]
     },
     "execution_count": 53,
     "metadata": {},
     "output_type": "execute_result"
    }
   ],
   "source": [
    "temp.count()"
   ]
  },
  {
   "cell_type": "code",
   "execution_count": 54,
   "id": "2abb824b",
   "metadata": {},
   "outputs": [],
   "source": [
    "dataset_merge = pd.concat([dataset_merge , temp ])"
   ]
  },
  {
   "cell_type": "code",
   "execution_count": 55,
   "id": "4e0d5a33",
   "metadata": {},
   "outputs": [
    {
     "data": {
      "text/plain": [
       "ride_id               2795820\n",
       "rideable_type         2795820\n",
       "started_at            2795820\n",
       "ended_at              2795820\n",
       "start_station_name    2521145\n",
       "start_station_id      2521146\n",
       "end_station_name      2497545\n",
       "end_station_id        2497545\n",
       "start_lat             2795820\n",
       "start_lng             2795820\n",
       "end_lat               2793169\n",
       "end_lng               2793169\n",
       "member_casual         2795820\n",
       "dtype: int64"
      ]
     },
     "execution_count": 55,
     "metadata": {},
     "output_type": "execute_result"
    }
   ],
   "source": [
    "dataset_merge.count()"
   ]
  },
  {
   "cell_type": "code",
   "execution_count": 56,
   "id": "021c1aa6",
   "metadata": {},
   "outputs": [],
   "source": [
    "temp = pd.read_csv(\"202108-divvy-tripdata.csv\")"
   ]
  },
  {
   "cell_type": "code",
   "execution_count": 58,
   "id": "ce0f7087",
   "metadata": {},
   "outputs": [
    {
     "data": {
      "text/plain": [
       "ride_id                object\n",
       "rideable_type          object\n",
       "started_at             object\n",
       "ended_at               object\n",
       "start_station_name     object\n",
       "start_station_id       object\n",
       "end_station_name       object\n",
       "end_station_id         object\n",
       "start_lat             float64\n",
       "start_lng             float64\n",
       "end_lat               float64\n",
       "end_lng               float64\n",
       "member_casual          object\n",
       "dtype: object"
      ]
     },
     "execution_count": 58,
     "metadata": {},
     "output_type": "execute_result"
    }
   ],
   "source": [
    "temp.dtypes"
   ]
  },
  {
   "cell_type": "code",
   "execution_count": 59,
   "id": "07cac39a",
   "metadata": {},
   "outputs": [],
   "source": [
    "dataset_merge = pd.concat([dataset_merge , temp ])"
   ]
  },
  {
   "cell_type": "code",
   "execution_count": 62,
   "id": "8e4e62e7",
   "metadata": {},
   "outputs": [
    {
     "data": {
      "text/plain": [
       "ride_id                object\n",
       "rideable_type          object\n",
       "started_at             object\n",
       "ended_at               object\n",
       "start_station_name     object\n",
       "start_station_id       object\n",
       "end_station_name       object\n",
       "end_station_id         object\n",
       "start_lat             float64\n",
       "start_lng             float64\n",
       "end_lat               float64\n",
       "end_lng               float64\n",
       "member_casual          object\n",
       "dtype: object"
      ]
     },
     "execution_count": 62,
     "metadata": {},
     "output_type": "execute_result"
    }
   ],
   "source": [
    "dataset_merge.dtypes\n"
   ]
  },
  {
   "cell_type": "code",
   "execution_count": 63,
   "id": "cea58a2b",
   "metadata": {},
   "outputs": [],
   "source": [
    "temp = pd.read_csv(\"202109-divvy-tripdata.csv\")"
   ]
  },
  {
   "cell_type": "code",
   "execution_count": 66,
   "id": "cb9e4aaf",
   "metadata": {},
   "outputs": [
    {
     "data": {
      "text/plain": [
       "ride_id               756147\n",
       "rideable_type         756147\n",
       "started_at            756147\n",
       "ended_at              756147\n",
       "start_station_name    663034\n",
       "start_station_id      663036\n",
       "end_station_name      656886\n",
       "end_station_id        656886\n",
       "start_lat             756147\n",
       "start_lng             756147\n",
       "end_lat               755552\n",
       "end_lng               755552\n",
       "member_casual         756147\n",
       "dtype: int64"
      ]
     },
     "execution_count": 66,
     "metadata": {},
     "output_type": "execute_result"
    }
   ],
   "source": [
    "temp.count()"
   ]
  },
  {
   "cell_type": "code",
   "execution_count": 67,
   "id": "a5151d3f",
   "metadata": {},
   "outputs": [],
   "source": [
    "dataset_merge = pd.concat([dataset_merge , temp ])"
   ]
  },
  {
   "cell_type": "code",
   "execution_count": 70,
   "id": "cf65a3d4",
   "metadata": {},
   "outputs": [
    {
     "data": {
      "text/plain": [
       "ride_id               4356319\n",
       "rideable_type         4356319\n",
       "started_at            4356319\n",
       "ended_at              4356319\n",
       "start_station_name    3900073\n",
       "start_station_id      3900076\n",
       "end_station_name      3864668\n",
       "end_station_id        3864668\n",
       "start_lat             4356319\n",
       "start_lng             4356319\n",
       "end_lat               4352367\n",
       "end_lng               4352367\n",
       "member_casual         4356319\n",
       "dtype: int64"
      ]
     },
     "execution_count": 70,
     "metadata": {},
     "output_type": "execute_result"
    }
   ],
   "source": [
    "dataset_merge.count()"
   ]
  },
  {
   "cell_type": "code",
   "execution_count": 71,
   "id": "b39e3a62",
   "metadata": {},
   "outputs": [],
   "source": [
    "temp = pd.read_csv(\"202110-divvy-tripdata.csv\")"
   ]
  },
  {
   "cell_type": "code",
   "execution_count": 73,
   "id": "cfde5e7e",
   "metadata": {},
   "outputs": [
    {
     "data": {
      "text/plain": [
       "ride_id                object\n",
       "rideable_type          object\n",
       "started_at             object\n",
       "ended_at               object\n",
       "start_station_name     object\n",
       "start_station_id       object\n",
       "end_station_name       object\n",
       "end_station_id         object\n",
       "start_lat             float64\n",
       "start_lng             float64\n",
       "end_lat               float64\n",
       "end_lng               float64\n",
       "member_casual          object\n",
       "dtype: object"
      ]
     },
     "execution_count": 73,
     "metadata": {},
     "output_type": "execute_result"
    }
   ],
   "source": [
    "temp.dtypes"
   ]
  },
  {
   "cell_type": "code",
   "execution_count": 74,
   "id": "b639340c",
   "metadata": {},
   "outputs": [],
   "source": [
    "dataset_merge = pd.concat([dataset_merge , temp ])"
   ]
  },
  {
   "cell_type": "code",
   "execution_count": 78,
   "id": "910ece43",
   "metadata": {},
   "outputs": [
    {
     "data": {
      "text/html": [
       "<div>\n",
       "<style scoped>\n",
       "    .dataframe tbody tr th:only-of-type {\n",
       "        vertical-align: middle;\n",
       "    }\n",
       "\n",
       "    .dataframe tbody tr th {\n",
       "        vertical-align: top;\n",
       "    }\n",
       "\n",
       "    .dataframe thead th {\n",
       "        text-align: right;\n",
       "    }\n",
       "</style>\n",
       "<table border=\"1\" class=\"dataframe\">\n",
       "  <thead>\n",
       "    <tr style=\"text-align: right;\">\n",
       "      <th></th>\n",
       "      <th>ride_id</th>\n",
       "      <th>rideable_type</th>\n",
       "      <th>started_at</th>\n",
       "      <th>ended_at</th>\n",
       "      <th>start_station_name</th>\n",
       "      <th>start_station_id</th>\n",
       "      <th>end_station_name</th>\n",
       "      <th>end_station_id</th>\n",
       "      <th>start_lat</th>\n",
       "      <th>start_lng</th>\n",
       "      <th>end_lat</th>\n",
       "      <th>end_lng</th>\n",
       "      <th>member_casual</th>\n",
       "    </tr>\n",
       "  </thead>\n",
       "  <tbody>\n",
       "    <tr>\n",
       "      <th>0</th>\n",
       "      <td>E19E6F1B8D4C42ED</td>\n",
       "      <td>electric_bike</td>\n",
       "      <td>2021-01-23 16:14:19</td>\n",
       "      <td>2021-01-23 16:24:44</td>\n",
       "      <td>California Ave &amp; Cortez St</td>\n",
       "      <td>17660</td>\n",
       "      <td>NaN</td>\n",
       "      <td>NaN</td>\n",
       "      <td>41.900341</td>\n",
       "      <td>-87.696743</td>\n",
       "      <td>41.89</td>\n",
       "      <td>-87.72</td>\n",
       "      <td>member</td>\n",
       "    </tr>\n",
       "    <tr>\n",
       "      <th>1</th>\n",
       "      <td>DC88F20C2C55F27F</td>\n",
       "      <td>electric_bike</td>\n",
       "      <td>2021-01-27 18:43:08</td>\n",
       "      <td>2021-01-27 18:47:12</td>\n",
       "      <td>California Ave &amp; Cortez St</td>\n",
       "      <td>17660</td>\n",
       "      <td>NaN</td>\n",
       "      <td>NaN</td>\n",
       "      <td>41.900333</td>\n",
       "      <td>-87.696707</td>\n",
       "      <td>41.90</td>\n",
       "      <td>-87.69</td>\n",
       "      <td>member</td>\n",
       "    </tr>\n",
       "    <tr>\n",
       "      <th>2</th>\n",
       "      <td>EC45C94683FE3F27</td>\n",
       "      <td>electric_bike</td>\n",
       "      <td>2021-01-21 22:35:54</td>\n",
       "      <td>2021-01-21 22:37:14</td>\n",
       "      <td>California Ave &amp; Cortez St</td>\n",
       "      <td>17660</td>\n",
       "      <td>NaN</td>\n",
       "      <td>NaN</td>\n",
       "      <td>41.900313</td>\n",
       "      <td>-87.696643</td>\n",
       "      <td>41.90</td>\n",
       "      <td>-87.70</td>\n",
       "      <td>member</td>\n",
       "    </tr>\n",
       "    <tr>\n",
       "      <th>3</th>\n",
       "      <td>4FA453A75AE377DB</td>\n",
       "      <td>electric_bike</td>\n",
       "      <td>2021-01-07 13:31:13</td>\n",
       "      <td>2021-01-07 13:42:55</td>\n",
       "      <td>California Ave &amp; Cortez St</td>\n",
       "      <td>17660</td>\n",
       "      <td>NaN</td>\n",
       "      <td>NaN</td>\n",
       "      <td>41.900399</td>\n",
       "      <td>-87.696662</td>\n",
       "      <td>41.92</td>\n",
       "      <td>-87.69</td>\n",
       "      <td>member</td>\n",
       "    </tr>\n",
       "    <tr>\n",
       "      <th>4</th>\n",
       "      <td>BE5E8EB4E7263A0B</td>\n",
       "      <td>electric_bike</td>\n",
       "      <td>2021-01-23 02:24:02</td>\n",
       "      <td>2021-01-23 02:24:45</td>\n",
       "      <td>California Ave &amp; Cortez St</td>\n",
       "      <td>17660</td>\n",
       "      <td>NaN</td>\n",
       "      <td>NaN</td>\n",
       "      <td>41.900326</td>\n",
       "      <td>-87.696697</td>\n",
       "      <td>41.90</td>\n",
       "      <td>-87.70</td>\n",
       "      <td>casual</td>\n",
       "    </tr>\n",
       "  </tbody>\n",
       "</table>\n",
       "</div>"
      ],
      "text/plain": [
       "            ride_id  rideable_type           started_at             ended_at  \\\n",
       "0  E19E6F1B8D4C42ED  electric_bike  2021-01-23 16:14:19  2021-01-23 16:24:44   \n",
       "1  DC88F20C2C55F27F  electric_bike  2021-01-27 18:43:08  2021-01-27 18:47:12   \n",
       "2  EC45C94683FE3F27  electric_bike  2021-01-21 22:35:54  2021-01-21 22:37:14   \n",
       "3  4FA453A75AE377DB  electric_bike  2021-01-07 13:31:13  2021-01-07 13:42:55   \n",
       "4  BE5E8EB4E7263A0B  electric_bike  2021-01-23 02:24:02  2021-01-23 02:24:45   \n",
       "\n",
       "           start_station_name start_station_id end_station_name  \\\n",
       "0  California Ave & Cortez St            17660              NaN   \n",
       "1  California Ave & Cortez St            17660              NaN   \n",
       "2  California Ave & Cortez St            17660              NaN   \n",
       "3  California Ave & Cortez St            17660              NaN   \n",
       "4  California Ave & Cortez St            17660              NaN   \n",
       "\n",
       "  end_station_id  start_lat  start_lng  end_lat  end_lng member_casual  \n",
       "0            NaN  41.900341 -87.696743    41.89   -87.72        member  \n",
       "1            NaN  41.900333 -87.696707    41.90   -87.69        member  \n",
       "2            NaN  41.900313 -87.696643    41.90   -87.70        member  \n",
       "3            NaN  41.900399 -87.696662    41.92   -87.69        member  \n",
       "4            NaN  41.900326 -87.696697    41.90   -87.70        casual  "
      ]
     },
     "execution_count": 78,
     "metadata": {},
     "output_type": "execute_result"
    }
   ],
   "source": [
    "dataset_merge.head()"
   ]
  },
  {
   "cell_type": "code",
   "execution_count": 79,
   "id": "f6277560",
   "metadata": {},
   "outputs": [],
   "source": [
    "temp = pd.read_csv(\"202110-divvy-tripdata.csv\")"
   ]
  },
  {
   "cell_type": "code",
   "execution_count": 80,
   "id": "893685e7",
   "metadata": {},
   "outputs": [],
   "source": [
    "dataset_merge = pd.concat([dataset_merge , temp ])"
   ]
  },
  {
   "cell_type": "code",
   "execution_count": 83,
   "id": "4c6f2dcb",
   "metadata": {},
   "outputs": [
    {
     "data": {
      "text/plain": [
       "ride_id               5618771\n",
       "rideable_type         5618771\n",
       "started_at            5618771\n",
       "ended_at              5618771\n",
       "start_station_name    4946105\n",
       "start_station_id      4946108\n",
       "end_station_name      4897452\n",
       "end_station_id        4897452\n",
       "start_lat             5618771\n",
       "start_lng             5618771\n",
       "end_lat               5613851\n",
       "end_lng               5613851\n",
       "member_casual         5618771\n",
       "dtype: int64"
      ]
     },
     "execution_count": 83,
     "metadata": {},
     "output_type": "execute_result"
    }
   ],
   "source": [
    "dataset_merge.count()"
   ]
  },
  {
   "cell_type": "code",
   "execution_count": 84,
   "id": "459957c9",
   "metadata": {},
   "outputs": [],
   "source": [
    "temp = pd.read_csv(\"202111-divvy-tripdata.csv\")"
   ]
  },
  {
   "cell_type": "code",
   "execution_count": 85,
   "id": "4a7f2373",
   "metadata": {},
   "outputs": [],
   "source": [
    "dataset_merge = pd.concat([dataset_merge , temp ])"
   ]
  },
  {
   "cell_type": "code",
   "execution_count": 89,
   "id": "6453a437",
   "metadata": {},
   "outputs": [
    {
     "data": {
      "text/html": [
       "<div>\n",
       "<style scoped>\n",
       "    .dataframe tbody tr th:only-of-type {\n",
       "        vertical-align: middle;\n",
       "    }\n",
       "\n",
       "    .dataframe tbody tr th {\n",
       "        vertical-align: top;\n",
       "    }\n",
       "\n",
       "    .dataframe thead th {\n",
       "        text-align: right;\n",
       "    }\n",
       "</style>\n",
       "<table border=\"1\" class=\"dataframe\">\n",
       "  <thead>\n",
       "    <tr style=\"text-align: right;\">\n",
       "      <th></th>\n",
       "      <th>ride_id</th>\n",
       "      <th>rideable_type</th>\n",
       "      <th>started_at</th>\n",
       "      <th>ended_at</th>\n",
       "      <th>start_station_name</th>\n",
       "      <th>start_station_id</th>\n",
       "      <th>end_station_name</th>\n",
       "      <th>end_station_id</th>\n",
       "      <th>start_lat</th>\n",
       "      <th>start_lng</th>\n",
       "      <th>end_lat</th>\n",
       "      <th>end_lng</th>\n",
       "      <th>member_casual</th>\n",
       "    </tr>\n",
       "  </thead>\n",
       "  <tbody>\n",
       "    <tr>\n",
       "      <th>359973</th>\n",
       "      <td>E00E9F3500D69BAA</td>\n",
       "      <td>electric_bike</td>\n",
       "      <td>2021-11-29 00:39:13</td>\n",
       "      <td>2021-11-29 00:51:41</td>\n",
       "      <td>Logan Blvd &amp; Elston Ave</td>\n",
       "      <td>TA1308000031</td>\n",
       "      <td>NaN</td>\n",
       "      <td>NaN</td>\n",
       "      <td>41.929454</td>\n",
       "      <td>-87.684195</td>\n",
       "      <td>41.93</td>\n",
       "      <td>-87.72</td>\n",
       "      <td>member</td>\n",
       "    </tr>\n",
       "    <tr>\n",
       "      <th>359974</th>\n",
       "      <td>8EAA66CE314E5FF1</td>\n",
       "      <td>electric_bike</td>\n",
       "      <td>2021-11-03 13:56:33</td>\n",
       "      <td>2021-11-03 14:01:27</td>\n",
       "      <td>Logan Blvd &amp; Elston Ave</td>\n",
       "      <td>TA1308000031</td>\n",
       "      <td>NaN</td>\n",
       "      <td>NaN</td>\n",
       "      <td>41.929440</td>\n",
       "      <td>-87.684180</td>\n",
       "      <td>41.94</td>\n",
       "      <td>-87.69</td>\n",
       "      <td>member</td>\n",
       "    </tr>\n",
       "    <tr>\n",
       "      <th>359975</th>\n",
       "      <td>36C2DC8BB1E13491</td>\n",
       "      <td>electric_bike</td>\n",
       "      <td>2021-11-02 19:32:18</td>\n",
       "      <td>2021-11-02 19:36:16</td>\n",
       "      <td>Logan Blvd &amp; Elston Ave</td>\n",
       "      <td>TA1308000031</td>\n",
       "      <td>NaN</td>\n",
       "      <td>NaN</td>\n",
       "      <td>41.929452</td>\n",
       "      <td>-87.684135</td>\n",
       "      <td>41.94</td>\n",
       "      <td>-87.69</td>\n",
       "      <td>member</td>\n",
       "    </tr>\n",
       "    <tr>\n",
       "      <th>359976</th>\n",
       "      <td>8E42FE5C67DF6A96</td>\n",
       "      <td>electric_bike</td>\n",
       "      <td>2021-11-10 20:15:06</td>\n",
       "      <td>2021-11-10 20:22:01</td>\n",
       "      <td>Logan Blvd &amp; Elston Ave</td>\n",
       "      <td>TA1308000031</td>\n",
       "      <td>NaN</td>\n",
       "      <td>NaN</td>\n",
       "      <td>41.929428</td>\n",
       "      <td>-87.684175</td>\n",
       "      <td>41.94</td>\n",
       "      <td>-87.69</td>\n",
       "      <td>member</td>\n",
       "    </tr>\n",
       "    <tr>\n",
       "      <th>359977</th>\n",
       "      <td>4F15069E2D2519BC</td>\n",
       "      <td>electric_bike</td>\n",
       "      <td>2021-11-30 20:18:00</td>\n",
       "      <td>2021-11-30 20:37:27</td>\n",
       "      <td>Ogden Ave &amp; Chicago Ave</td>\n",
       "      <td>TA1305000020</td>\n",
       "      <td>NaN</td>\n",
       "      <td>NaN</td>\n",
       "      <td>41.896354</td>\n",
       "      <td>-87.653982</td>\n",
       "      <td>41.95</td>\n",
       "      <td>-87.70</td>\n",
       "      <td>member</td>\n",
       "    </tr>\n",
       "  </tbody>\n",
       "</table>\n",
       "</div>"
      ],
      "text/plain": [
       "                 ride_id  rideable_type           started_at  \\\n",
       "359973  E00E9F3500D69BAA  electric_bike  2021-11-29 00:39:13   \n",
       "359974  8EAA66CE314E5FF1  electric_bike  2021-11-03 13:56:33   \n",
       "359975  36C2DC8BB1E13491  electric_bike  2021-11-02 19:32:18   \n",
       "359976  8E42FE5C67DF6A96  electric_bike  2021-11-10 20:15:06   \n",
       "359977  4F15069E2D2519BC  electric_bike  2021-11-30 20:18:00   \n",
       "\n",
       "                   ended_at       start_station_name start_station_id  \\\n",
       "359973  2021-11-29 00:51:41  Logan Blvd & Elston Ave     TA1308000031   \n",
       "359974  2021-11-03 14:01:27  Logan Blvd & Elston Ave     TA1308000031   \n",
       "359975  2021-11-02 19:36:16  Logan Blvd & Elston Ave     TA1308000031   \n",
       "359976  2021-11-10 20:22:01  Logan Blvd & Elston Ave     TA1308000031   \n",
       "359977  2021-11-30 20:37:27  Ogden Ave & Chicago Ave     TA1305000020   \n",
       "\n",
       "       end_station_name end_station_id  start_lat  start_lng  end_lat  \\\n",
       "359973              NaN            NaN  41.929454 -87.684195    41.93   \n",
       "359974              NaN            NaN  41.929440 -87.684180    41.94   \n",
       "359975              NaN            NaN  41.929452 -87.684135    41.94   \n",
       "359976              NaN            NaN  41.929428 -87.684175    41.94   \n",
       "359977              NaN            NaN  41.896354 -87.653982    41.95   \n",
       "\n",
       "        end_lng member_casual  \n",
       "359973   -87.72        member  \n",
       "359974   -87.69        member  \n",
       "359975   -87.69        member  \n",
       "359976   -87.69        member  \n",
       "359977   -87.70        member  "
      ]
     },
     "execution_count": 89,
     "metadata": {},
     "output_type": "execute_result"
    }
   ],
   "source": [
    "dataset_merge.tail()"
   ]
  },
  {
   "cell_type": "code",
   "execution_count": 90,
   "id": "df027ffd",
   "metadata": {},
   "outputs": [],
   "source": [
    "temp = pd.read_csv(\"202112-divvy-tripdata.csv\")"
   ]
  },
  {
   "cell_type": "code",
   "execution_count": 91,
   "id": "c7d9ce61",
   "metadata": {},
   "outputs": [
    {
     "data": {
      "text/html": [
       "<div>\n",
       "<style scoped>\n",
       "    .dataframe tbody tr th:only-of-type {\n",
       "        vertical-align: middle;\n",
       "    }\n",
       "\n",
       "    .dataframe tbody tr th {\n",
       "        vertical-align: top;\n",
       "    }\n",
       "\n",
       "    .dataframe thead th {\n",
       "        text-align: right;\n",
       "    }\n",
       "</style>\n",
       "<table border=\"1\" class=\"dataframe\">\n",
       "  <thead>\n",
       "    <tr style=\"text-align: right;\">\n",
       "      <th></th>\n",
       "      <th>ride_id</th>\n",
       "      <th>rideable_type</th>\n",
       "      <th>started_at</th>\n",
       "      <th>ended_at</th>\n",
       "      <th>start_station_name</th>\n",
       "      <th>start_station_id</th>\n",
       "      <th>end_station_name</th>\n",
       "      <th>end_station_id</th>\n",
       "      <th>start_lat</th>\n",
       "      <th>start_lng</th>\n",
       "      <th>end_lat</th>\n",
       "      <th>end_lng</th>\n",
       "      <th>member_casual</th>\n",
       "    </tr>\n",
       "  </thead>\n",
       "  <tbody>\n",
       "    <tr>\n",
       "      <th>0</th>\n",
       "      <td>46F8167220E4431F</td>\n",
       "      <td>electric_bike</td>\n",
       "      <td>2021-12-07 15:06:07</td>\n",
       "      <td>2021-12-07 15:13:42</td>\n",
       "      <td>Laflin St &amp; Cullerton St</td>\n",
       "      <td>13307</td>\n",
       "      <td>Morgan St &amp; Polk St</td>\n",
       "      <td>TA1307000130</td>\n",
       "      <td>41.854833</td>\n",
       "      <td>-87.663660</td>\n",
       "      <td>41.871969</td>\n",
       "      <td>-87.650965</td>\n",
       "      <td>member</td>\n",
       "    </tr>\n",
       "    <tr>\n",
       "      <th>1</th>\n",
       "      <td>73A77762838B32FD</td>\n",
       "      <td>electric_bike</td>\n",
       "      <td>2021-12-11 03:43:29</td>\n",
       "      <td>2021-12-11 04:10:23</td>\n",
       "      <td>LaSalle Dr &amp; Huron St</td>\n",
       "      <td>KP1705001026</td>\n",
       "      <td>Clarendon Ave &amp; Leland Ave</td>\n",
       "      <td>TA1307000119</td>\n",
       "      <td>41.894405</td>\n",
       "      <td>-87.632331</td>\n",
       "      <td>41.967968</td>\n",
       "      <td>-87.650001</td>\n",
       "      <td>casual</td>\n",
       "    </tr>\n",
       "    <tr>\n",
       "      <th>2</th>\n",
       "      <td>4CF42452054F59C5</td>\n",
       "      <td>electric_bike</td>\n",
       "      <td>2021-12-15 23:10:28</td>\n",
       "      <td>2021-12-15 23:23:14</td>\n",
       "      <td>Halsted St &amp; North Branch St</td>\n",
       "      <td>KA1504000117</td>\n",
       "      <td>Broadway &amp; Barry Ave</td>\n",
       "      <td>13137</td>\n",
       "      <td>41.899357</td>\n",
       "      <td>-87.648522</td>\n",
       "      <td>41.937582</td>\n",
       "      <td>-87.644098</td>\n",
       "      <td>member</td>\n",
       "    </tr>\n",
       "    <tr>\n",
       "      <th>3</th>\n",
       "      <td>3278BA87BF698339</td>\n",
       "      <td>classic_bike</td>\n",
       "      <td>2021-12-26 16:16:10</td>\n",
       "      <td>2021-12-26 16:30:53</td>\n",
       "      <td>Halsted St &amp; North Branch St</td>\n",
       "      <td>KA1504000117</td>\n",
       "      <td>LaSalle Dr &amp; Huron St</td>\n",
       "      <td>KP1705001026</td>\n",
       "      <td>41.899390</td>\n",
       "      <td>-87.648545</td>\n",
       "      <td>41.894877</td>\n",
       "      <td>-87.632326</td>\n",
       "      <td>member</td>\n",
       "    </tr>\n",
       "    <tr>\n",
       "      <th>4</th>\n",
       "      <td>6FF54232576A3B73</td>\n",
       "      <td>electric_bike</td>\n",
       "      <td>2021-12-30 11:31:05</td>\n",
       "      <td>2021-12-30 11:51:21</td>\n",
       "      <td>Leavitt St &amp; Chicago Ave</td>\n",
       "      <td>18058</td>\n",
       "      <td>Clark St &amp; Drummond Pl</td>\n",
       "      <td>TA1307000142</td>\n",
       "      <td>41.895579</td>\n",
       "      <td>-87.682024</td>\n",
       "      <td>41.931248</td>\n",
       "      <td>-87.644336</td>\n",
       "      <td>member</td>\n",
       "    </tr>\n",
       "  </tbody>\n",
       "</table>\n",
       "</div>"
      ],
      "text/plain": [
       "            ride_id  rideable_type           started_at             ended_at  \\\n",
       "0  46F8167220E4431F  electric_bike  2021-12-07 15:06:07  2021-12-07 15:13:42   \n",
       "1  73A77762838B32FD  electric_bike  2021-12-11 03:43:29  2021-12-11 04:10:23   \n",
       "2  4CF42452054F59C5  electric_bike  2021-12-15 23:10:28  2021-12-15 23:23:14   \n",
       "3  3278BA87BF698339   classic_bike  2021-12-26 16:16:10  2021-12-26 16:30:53   \n",
       "4  6FF54232576A3B73  electric_bike  2021-12-30 11:31:05  2021-12-30 11:51:21   \n",
       "\n",
       "             start_station_name start_station_id            end_station_name  \\\n",
       "0      Laflin St & Cullerton St            13307         Morgan St & Polk St   \n",
       "1         LaSalle Dr & Huron St     KP1705001026  Clarendon Ave & Leland Ave   \n",
       "2  Halsted St & North Branch St     KA1504000117        Broadway & Barry Ave   \n",
       "3  Halsted St & North Branch St     KA1504000117       LaSalle Dr & Huron St   \n",
       "4      Leavitt St & Chicago Ave            18058      Clark St & Drummond Pl   \n",
       "\n",
       "  end_station_id  start_lat  start_lng    end_lat    end_lng member_casual  \n",
       "0   TA1307000130  41.854833 -87.663660  41.871969 -87.650965        member  \n",
       "1   TA1307000119  41.894405 -87.632331  41.967968 -87.650001        casual  \n",
       "2          13137  41.899357 -87.648522  41.937582 -87.644098        member  \n",
       "3   KP1705001026  41.899390 -87.648545  41.894877 -87.632326        member  \n",
       "4   TA1307000142  41.895579 -87.682024  41.931248 -87.644336        member  "
      ]
     },
     "execution_count": 91,
     "metadata": {},
     "output_type": "execute_result"
    }
   ],
   "source": [
    "temp.head()"
   ]
  },
  {
   "cell_type": "code",
   "execution_count": 92,
   "id": "f3624321",
   "metadata": {},
   "outputs": [],
   "source": [
    "dataset_merge = pd.concat([dataset_merge , temp ])"
   ]
  },
  {
   "cell_type": "code",
   "execution_count": 94,
   "id": "d7d87554",
   "metadata": {},
   "outputs": [
    {
     "data": {
      "text/html": [
       "<div>\n",
       "<style scoped>\n",
       "    .dataframe tbody tr th:only-of-type {\n",
       "        vertical-align: middle;\n",
       "    }\n",
       "\n",
       "    .dataframe tbody tr th {\n",
       "        vertical-align: top;\n",
       "    }\n",
       "\n",
       "    .dataframe thead th {\n",
       "        text-align: right;\n",
       "    }\n",
       "</style>\n",
       "<table border=\"1\" class=\"dataframe\">\n",
       "  <thead>\n",
       "    <tr style=\"text-align: right;\">\n",
       "      <th></th>\n",
       "      <th>ride_id</th>\n",
       "      <th>rideable_type</th>\n",
       "      <th>started_at</th>\n",
       "      <th>ended_at</th>\n",
       "      <th>start_station_name</th>\n",
       "      <th>start_station_id</th>\n",
       "      <th>end_station_name</th>\n",
       "      <th>end_station_id</th>\n",
       "      <th>start_lat</th>\n",
       "      <th>start_lng</th>\n",
       "      <th>end_lat</th>\n",
       "      <th>end_lng</th>\n",
       "      <th>member_casual</th>\n",
       "    </tr>\n",
       "  </thead>\n",
       "  <tbody>\n",
       "    <tr>\n",
       "      <th>247535</th>\n",
       "      <td>847431F3D5353AB7</td>\n",
       "      <td>electric_bike</td>\n",
       "      <td>2021-12-12 13:36:55</td>\n",
       "      <td>2021-12-12 13:56:08</td>\n",
       "      <td>Canal St &amp; Madison St</td>\n",
       "      <td>13341</td>\n",
       "      <td>NaN</td>\n",
       "      <td>NaN</td>\n",
       "      <td>41.882289</td>\n",
       "      <td>-87.639752</td>\n",
       "      <td>41.890000</td>\n",
       "      <td>-87.610000</td>\n",
       "      <td>casual</td>\n",
       "    </tr>\n",
       "    <tr>\n",
       "      <th>247536</th>\n",
       "      <td>CF407BBC3B9FAD63</td>\n",
       "      <td>electric_bike</td>\n",
       "      <td>2021-12-06 19:37:50</td>\n",
       "      <td>2021-12-06 19:44:51</td>\n",
       "      <td>Canal St &amp; Madison St</td>\n",
       "      <td>13341</td>\n",
       "      <td>Kingsbury St &amp; Kinzie St</td>\n",
       "      <td>KA1503000043</td>\n",
       "      <td>41.882123</td>\n",
       "      <td>-87.640053</td>\n",
       "      <td>41.889106</td>\n",
       "      <td>-87.638862</td>\n",
       "      <td>member</td>\n",
       "    </tr>\n",
       "    <tr>\n",
       "      <th>247537</th>\n",
       "      <td>60BB69EBF5440E92</td>\n",
       "      <td>electric_bike</td>\n",
       "      <td>2021-12-02 08:57:04</td>\n",
       "      <td>2021-12-02 09:05:21</td>\n",
       "      <td>Canal St &amp; Madison St</td>\n",
       "      <td>13341</td>\n",
       "      <td>Dearborn St &amp; Monroe St</td>\n",
       "      <td>TA1305000006</td>\n",
       "      <td>41.881956</td>\n",
       "      <td>-87.639955</td>\n",
       "      <td>41.880254</td>\n",
       "      <td>-87.629603</td>\n",
       "      <td>member</td>\n",
       "    </tr>\n",
       "    <tr>\n",
       "      <th>247538</th>\n",
       "      <td>C414F654A28635B8</td>\n",
       "      <td>electric_bike</td>\n",
       "      <td>2021-12-13 09:00:26</td>\n",
       "      <td>2021-12-13 09:14:39</td>\n",
       "      <td>Lawndale Ave &amp; 16th St</td>\n",
       "      <td>362.0</td>\n",
       "      <td>NaN</td>\n",
       "      <td>NaN</td>\n",
       "      <td>41.860000</td>\n",
       "      <td>-87.720000</td>\n",
       "      <td>41.850000</td>\n",
       "      <td>-87.710000</td>\n",
       "      <td>member</td>\n",
       "    </tr>\n",
       "    <tr>\n",
       "      <th>247539</th>\n",
       "      <td>37AC57E34B2E7E97</td>\n",
       "      <td>classic_bike</td>\n",
       "      <td>2021-12-13 08:45:32</td>\n",
       "      <td>2021-12-13 08:49:09</td>\n",
       "      <td>Michigan Ave &amp; Jackson Blvd</td>\n",
       "      <td>TA1309000002</td>\n",
       "      <td>Dearborn St &amp; Monroe St</td>\n",
       "      <td>TA1305000006</td>\n",
       "      <td>41.877850</td>\n",
       "      <td>-87.624080</td>\n",
       "      <td>41.881320</td>\n",
       "      <td>-87.629521</td>\n",
       "      <td>member</td>\n",
       "    </tr>\n",
       "  </tbody>\n",
       "</table>\n",
       "</div>"
      ],
      "text/plain": [
       "                 ride_id  rideable_type           started_at  \\\n",
       "247535  847431F3D5353AB7  electric_bike  2021-12-12 13:36:55   \n",
       "247536  CF407BBC3B9FAD63  electric_bike  2021-12-06 19:37:50   \n",
       "247537  60BB69EBF5440E92  electric_bike  2021-12-02 08:57:04   \n",
       "247538  C414F654A28635B8  electric_bike  2021-12-13 09:00:26   \n",
       "247539  37AC57E34B2E7E97   classic_bike  2021-12-13 08:45:32   \n",
       "\n",
       "                   ended_at           start_station_name start_station_id  \\\n",
       "247535  2021-12-12 13:56:08        Canal St & Madison St            13341   \n",
       "247536  2021-12-06 19:44:51        Canal St & Madison St            13341   \n",
       "247537  2021-12-02 09:05:21        Canal St & Madison St            13341   \n",
       "247538  2021-12-13 09:14:39       Lawndale Ave & 16th St            362.0   \n",
       "247539  2021-12-13 08:49:09  Michigan Ave & Jackson Blvd     TA1309000002   \n",
       "\n",
       "                end_station_name end_station_id  start_lat  start_lng  \\\n",
       "247535                       NaN            NaN  41.882289 -87.639752   \n",
       "247536  Kingsbury St & Kinzie St   KA1503000043  41.882123 -87.640053   \n",
       "247537   Dearborn St & Monroe St   TA1305000006  41.881956 -87.639955   \n",
       "247538                       NaN            NaN  41.860000 -87.720000   \n",
       "247539   Dearborn St & Monroe St   TA1305000006  41.877850 -87.624080   \n",
       "\n",
       "          end_lat    end_lng member_casual  \n",
       "247535  41.890000 -87.610000        casual  \n",
       "247536  41.889106 -87.638862        member  \n",
       "247537  41.880254 -87.629603        member  \n",
       "247538  41.850000 -87.710000        member  \n",
       "247539  41.881320 -87.629521        member  "
      ]
     },
     "execution_count": 94,
     "metadata": {},
     "output_type": "execute_result"
    }
   ],
   "source": [
    "dataset_merge.tail()"
   ]
  },
  {
   "cell_type": "code",
   "execution_count": 95,
   "id": "d041a685",
   "metadata": {},
   "outputs": [],
   "source": [
    "dataset_merge.to_csv('merged_cyclistic_data.csv')"
   ]
  },
  {
   "cell_type": "code",
   "execution_count": 96,
   "id": "9adad158",
   "metadata": {},
   "outputs": [
    {
     "data": {
      "text/plain": [
       "ride_id               6226289\n",
       "rideable_type         6226289\n",
       "started_at            6226289\n",
       "ended_at              6226289\n",
       "start_station_name    5427270\n",
       "start_station_id      5427273\n",
       "end_station_name      5372285\n",
       "end_station_id        5372285\n",
       "start_lat             6226289\n",
       "start_lng             6226289\n",
       "end_lat               6221034\n",
       "end_lng               6221034\n",
       "member_casual         6226289\n",
       "dtype: int64"
      ]
     },
     "execution_count": 96,
     "metadata": {},
     "output_type": "execute_result"
    }
   ],
   "source": [
    "dataset_merge.count()"
   ]
  },
  {
   "cell_type": "code",
   "execution_count": null,
   "id": "a7dd98cd",
   "metadata": {},
   "outputs": [],
   "source": []
  }
 ],
 "metadata": {
  "kernelspec": {
   "display_name": "Python 3 (ipykernel)",
   "language": "python",
   "name": "python3"
  },
  "language_info": {
   "codemirror_mode": {
    "name": "ipython",
    "version": 3
   },
   "file_extension": ".py",
   "mimetype": "text/x-python",
   "name": "python",
   "nbconvert_exporter": "python",
   "pygments_lexer": "ipython3",
   "version": "3.9.13"
  }
 },
 "nbformat": 4,
 "nbformat_minor": 5
}
